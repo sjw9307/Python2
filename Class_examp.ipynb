{
  "nbformat": 4,
  "nbformat_minor": 0,
  "metadata": {
    "colab": {
      "provenance": [],
      "authorship_tag": "ABX9TyPiEDPDu8i9jQOc+mm7ocR3",
      "include_colab_link": true
    },
    "kernelspec": {
      "name": "python3",
      "display_name": "Python 3"
    },
    "language_info": {
      "name": "python"
    }
  },
  "cells": [
    {
      "cell_type": "markdown",
      "metadata": {
        "id": "view-in-github",
        "colab_type": "text"
      },
      "source": [
        "<a href=\"https://colab.research.google.com/github/sjw9307/Python2/blob/mater/Class_examp.ipynb\" target=\"_parent\"><img src=\"https://colab.research.google.com/assets/colab-badge.svg\" alt=\"Open In Colab\"/></a>"
      ]
    },
    {
      "cell_type": "code",
      "execution_count": null,
      "metadata": {
        "colab": {
          "base_uri": "https://localhost:8080/"
        },
        "id": "PR2tMXnmOFbo",
        "outputId": "3ed64949-b770-43c4-ddb7-915eec7c39b2"
      },
      "outputs": [
        {
          "output_type": "stream",
          "name": "stdout",
          "text": [
            "전원을 켠다. ON\n"
          ]
        }
      ],
      "source": [
        "class Tv:\n",
        "  power = \"OFF\"\n",
        "  def turnOn(self):\n",
        "    power = \"ON\"\n",
        "    print(\"전원을 켠다.\", power)\n",
        "\n",
        "\n",
        "tv1 = Tv()\n",
        "tv1.turnOn()\n"
      ]
    },
    {
      "cell_type": "code",
      "source": [
        "class Student:\n",
        "  name = \"홍길동\"\n",
        "  stu_id = \"1234\"\n",
        "\n",
        "  def display(self):\n",
        "    print(self.name,\"의 학번 :\",self.stu_id)\n",
        "\n",
        "stu1 = Student()\n",
        "stu1.display()"
      ],
      "metadata": {
        "colab": {
          "base_uri": "https://localhost:8080/"
        },
        "id": "s9dcMRv5QQaE",
        "outputId": "b2f35869-33c1-42f4-8249-6824630572d5"
      },
      "execution_count": null,
      "outputs": [
        {
          "output_type": "stream",
          "name": "stdout",
          "text": [
            "홍길동 의 학번 : 1234\n"
          ]
        }
      ]
    },
    {
      "cell_type": "code",
      "source": [
        "class Student:\n",
        "  def __init__(self, name, stu_id):\n",
        "    self.name = name\n",
        "    self.stu_id = stu_id\n",
        "\n",
        "  def display(self):\n",
        "    print(self.name,\"의 학번 :\",self.stu_id)\n",
        "\n",
        "stu1 = Student(\"Jinwon SEO\" , \"20228338\")\n",
        "stu1.display()\n",
        "print(stu1.name,stu1.stu_id)"
      ],
      "metadata": {
        "colab": {
          "base_uri": "https://localhost:8080/"
        },
        "id": "2HBWnMsgSNrG",
        "outputId": "59d8946f-eefd-4e84-9090-07a5a43f2e2f"
      },
      "execution_count": null,
      "outputs": [
        {
          "output_type": "stream",
          "name": "stdout",
          "text": [
            "Jinwon SEO 의 학번 : 20228338\n",
            "Jinwon SEO 20228338\n"
          ]
        }
      ]
    },
    {
      "cell_type": "code",
      "source": [
        "class Tv:\n",
        "  def __init__(self, power= \"OFF\", channel= \"11\"):\n",
        "    self.power = power\n",
        "    self.channel = channel\n",
        "  \n",
        "  def turnOn(self):\n",
        "    self.power = \"ON\"\n",
        "\n",
        "  def show(self):\n",
        "    print(\"Tv상태\", self.power, self.channel)\n",
        "  \n",
        "\n",
        "tv1 = Tv(\"On,5\")\n",
        "tv1.turnOn()\n",
        "tv1.show()\n"
      ],
      "metadata": {
        "colab": {
          "base_uri": "https://localhost:8080/"
        },
        "id": "hgpIapCXSaxJ",
        "outputId": "b909200b-81d1-4edb-8587-778506d9aee5"
      },
      "execution_count": null,
      "outputs": [
        {
          "output_type": "stream",
          "name": "stdout",
          "text": [
            "Tv상태 ON 11\n"
          ]
        }
      ]
    },
    {
      "cell_type": "code",
      "source": [
        "PI = 3.141592\n",
        "\n",
        "class Circle:\n",
        "  def __init__(self, radius= 0.0):\n",
        "    self.radius = radius\n",
        "  \n",
        "  def getArea(self):\n",
        "    return self.radius * self.radius * PI\n",
        "\n",
        "C1 = Circle(5)\n",
        "C1.getArea()\n"
      ],
      "metadata": {
        "colab": {
          "base_uri": "https://localhost:8080/"
        },
        "id": "tuIySTSlXsA-",
        "outputId": "4e3804e5-601d-4be3-e931-5972992ab50a"
      },
      "execution_count": null,
      "outputs": [
        {
          "output_type": "execute_result",
          "data": {
            "text/plain": [
              "78.5398"
            ]
          },
          "metadata": {},
          "execution_count": 34
        }
      ]
    },
    {
      "cell_type": "code",
      "source": [
        "class Calculator:\n",
        "  def __init__(self, x= 0.0, y = 0.0):\n",
        "    self.x = x;\n",
        "    self.y = y;\n",
        "    self.add_result = 0;\n",
        "    self.sub_result = 0;\n",
        "    \n",
        "  def add(self):\n",
        "    self.add_result = self.x + self.y\n",
        "\n",
        "  def sub(self):\n",
        "    self.sub_result = self.x - self.y\n",
        "\n",
        "  def show_add_result(self):\n",
        "    print(\"x와 y 의 합은: \", self.add_result ,\"입니다.\")\n",
        "\n",
        "  def show_sub_result(self):\n",
        "    print(\"x와 y 의 차는: \", self.sub_result ,\"입니다.\")\n",
        "\n",
        "C2 = Calculator(1,0.5)\n",
        "C2.add()\n",
        "C2.sub()\n",
        "C2.show_add_result()\n",
        "C2.show_sub_result()\n"
      ],
      "metadata": {
        "colab": {
          "base_uri": "https://localhost:8080/"
        },
        "id": "fRRU1jMkapm9",
        "outputId": "6dc7be06-4f26-4a61-81de-83735ae8931f"
      },
      "execution_count": null,
      "outputs": [
        {
          "output_type": "stream",
          "name": "stdout",
          "text": [
            "x와 y 의 합은:  1.5 입니다.\n",
            "x와 y 의 차는:  0.5 입니다.\n"
          ]
        }
      ]
    },
    {
      "cell_type": "code",
      "source": [
        "class BankAccount:\n",
        "  def __init__(self, balance = 0.0):\n",
        "    self.balance = balance;\n",
        "\n",
        "  def deposit(self, income):\n",
        "    if (income < 0) :\n",
        "      print(\"입금하는 금액은 음수가 될 수 없습니다.\")\n",
        "    \n",
        "    else :\n",
        "      self.balance = self.balance + income\n",
        "      return print(\"통장에\", income,\"이 입금되었습니다. 잔액: \", self.balance)\n",
        "  \n",
        "  def withdraw(self, withdraw):\n",
        "    self.balance = self.balance - withdraw\n",
        "    return print(\"통장에\", withdraw,\"만큼 출금되었습니다. 잔액: \", self.balance)\n",
        "  \n",
        "acc1 = BankAccount(100)\n",
        "acc1.deposit(-1)\n",
        "acc1.withdraw(10)\n"
      ],
      "metadata": {
        "colab": {
          "base_uri": "https://localhost:8080/"
        },
        "id": "nYMPRM9TevEu",
        "outputId": "13c5d581-7930-4a48-971e-ea56ecb56c05"
      },
      "execution_count": null,
      "outputs": [
        {
          "output_type": "stream",
          "name": "stdout",
          "text": [
            "입금하는 금액은 음수가 될 수 없습니다.\n",
            "통장에 10 만큼 \u001d출금되었습니다. 잔액:  90\n"
          ]
        }
      ]
    },
    {
      "cell_type": "code",
      "source": [
        "class Item:\n",
        "  def __init__(self, item_name = \"\", item_price = 0):\n",
        "    self.item_name = item_name;\n",
        "    self.item_price = item_price;\n",
        "\n",
        "  def display_info(Item):\n",
        "    print(\"물건 이름: \", Item.item_name)\n",
        "    print(\"물건 가격: \", Item.item_price)\n",
        "\n",
        "\n",
        "book = Item(\"책\", 5000)\n",
        "pen = Item(\"펜\", 1000)\n",
        "\n",
        "book.display_info()\n",
        "pen.display_info()"
      ],
      "metadata": {
        "colab": {
          "base_uri": "https://localhost:8080/"
        },
        "id": "L_AcRH1t0Dal",
        "outputId": "100a12a0-b616-4b56-ad7e-bd14d3955631"
      },
      "execution_count": null,
      "outputs": [
        {
          "output_type": "stream",
          "name": "stdout",
          "text": [
            "물건 이름:  책\n",
            "물건 가격:  5000\n",
            "물건 이름:  펜\n",
            "물건 가격:  1000\n"
          ]
        }
      ]
    },
    {
      "cell_type": "code",
      "source": [
        "# 이 클래스는 간단한 계산기의 기능을 갖춘 Calculator 클래스입니다.\n",
        "class Calculator:\n",
        "  # 생성자 함수입니다. 이 클래스의 인스턴스가 만들어질 때 호출되며, 계산기의 초기 값을 0으로 설정합니다.\n",
        "  def __init__(self):\n",
        "      self.value = 0  # 인스턴스의 초기 값이 0이 됩니다.\n",
        "\n",
        "  # add 함수는 주어진 값을 현재 값에 더하는 기능을 합니다.\n",
        "  def add(self,val):\n",
        "      self.value += val  # 주어진 val 값을 현재 값에 더합니다.\n",
        "\n",
        "  # minus 함수는 주어진 값을 현재 값에서 뺀다는 기능을 합니다.\n",
        "  def minus(self,val):\n",
        "      self.value -= val  # 주어진 val 값을 현재 값에서 뺍니다.\n",
        "\n",
        "# Calculator 클래스의 인스턴스를 생성합니다.\n",
        "cal = Calculator()\n",
        "\n",
        "# add 함수를 사용하여 10을 더합니다.\n",
        "cal.add(10)\n",
        "\n",
        "# minus 함수를 사용하여 7을 빼줍니다.\n",
        "cal.minus(7)\n",
        "\n",
        "# 마지막으로 계산 결과를 출력합니다. 초기 값이 0에서 10을 더하고 7을 뺀 3이 출력됩니다.\n",
        "print(cal.value)\n"
      ],
      "metadata": {
        "id": "b7T5Vszs1t4t",
        "colab": {
          "base_uri": "https://localhost:8080/"
        },
        "outputId": "0f997a1a-4b72-4946-a72d-820125bfdda8"
      },
      "execution_count": null,
      "outputs": [
        {
          "output_type": "stream",
          "name": "stdout",
          "text": [
            "3\n"
          ]
        }
      ]
    },
    {
      "cell_type": "code",
      "source": [
        "class Student:\n",
        "  # 생성자 함수입니다.입력받은 이름과 학번을 저장합니다.\n",
        "  def __init__(self, name, age):\n",
        "      self.name = name  # 입력받은 이름을 인스턴스의 이름으로 설정합니다.\n",
        "      self.age = age  # 입력받은 학번을 인스턴스의 학번으로 설정합니다.\n",
        "\n",
        "# Student 클래스의 인스턴스를 생성하고, 이름과 학번을 설정합니다.\n",
        "student1 = Student(\"홍길동\", \"12345\")\n",
        "\n",
        "# 학생의 이름과 학번을 출력합니다.\n",
        "print(\"이름 : \" ,student1.name, \"학번 : \", student1.age)\n"
      ],
      "metadata": {
        "colab": {
          "base_uri": "https://localhost:8080/"
        },
        "id": "v7A_S7LctU_9",
        "outputId": "269230fd-a12d-481f-ffe9-ac5e11917db8"
      },
      "execution_count": null,
      "outputs": [
        {
          "output_type": "stream",
          "name": "stdout",
          "text": [
            "이름 :  홍길동 학번 :  12345\n"
          ]
        }
      ]
    },
    {
      "cell_type": "code",
      "source": [
        "import pandas as pd\n",
        "\n",
        "data = ['Kim', 'Park', 'Lee', 'Choi']\n",
        "ser = pd.Series(data)\n",
        "ser"
      ],
      "metadata": {
        "colab": {
          "base_uri": "https://localhost:8080/"
        },
        "id": "fDfG90nFLhcj",
        "outputId": "fe4bec7a-d00a-47d8-836d-42710760ff56"
      },
      "execution_count": 4,
      "outputs": [
        {
          "output_type": "execute_result",
          "data": {
            "text/plain": [
              "0     Kim\n",
              "1    Park\n",
              "2     Lee\n",
              "3    Choi\n",
              "dtype: object"
            ]
          },
          "metadata": {},
          "execution_count": 4
        }
      ]
    },
    {
      "cell_type": "code",
      "source": [
        "data = {\n",
        "    'Name':['Kim', 'Park', 'Lee', 'Choi'], \n",
        "    'Age':[20, 23, 21, 26]\n",
        "    }\n",
        "df = pd.DataFrame(data)\n",
        "df"
      ],
      "metadata": {
        "colab": {
          "base_uri": "https://localhost:8080/",
          "height": 175
        },
        "id": "gon79Yh9L75X",
        "outputId": "7eb29980-cf69-445e-eb9c-2ef02c07998f"
      },
      "execution_count": 5,
      "outputs": [
        {
          "output_type": "execute_result",
          "data": {
            "text/plain": [
              "   Name  Age\n",
              "0   Kim   20\n",
              "1  Park   23\n",
              "2   Lee   21\n",
              "3  Choi   26"
            ],
            "text/html": [
              "\n",
              "  <div id=\"df-101a8b1e-51b3-4931-97d7-e5dff1bd60f2\">\n",
              "    <div class=\"colab-df-container\">\n",
              "      <div>\n",
              "<style scoped>\n",
              "    .dataframe tbody tr th:only-of-type {\n",
              "        vertical-align: middle;\n",
              "    }\n",
              "\n",
              "    .dataframe tbody tr th {\n",
              "        vertical-align: top;\n",
              "    }\n",
              "\n",
              "    .dataframe thead th {\n",
              "        text-align: right;\n",
              "    }\n",
              "</style>\n",
              "<table border=\"1\" class=\"dataframe\">\n",
              "  <thead>\n",
              "    <tr style=\"text-align: right;\">\n",
              "      <th></th>\n",
              "      <th>Name</th>\n",
              "      <th>Age</th>\n",
              "    </tr>\n",
              "  </thead>\n",
              "  <tbody>\n",
              "    <tr>\n",
              "      <th>0</th>\n",
              "      <td>Kim</td>\n",
              "      <td>20</td>\n",
              "    </tr>\n",
              "    <tr>\n",
              "      <th>1</th>\n",
              "      <td>Park</td>\n",
              "      <td>23</td>\n",
              "    </tr>\n",
              "    <tr>\n",
              "      <th>2</th>\n",
              "      <td>Lee</td>\n",
              "      <td>21</td>\n",
              "    </tr>\n",
              "    <tr>\n",
              "      <th>3</th>\n",
              "      <td>Choi</td>\n",
              "      <td>26</td>\n",
              "    </tr>\n",
              "  </tbody>\n",
              "</table>\n",
              "</div>\n",
              "      <button class=\"colab-df-convert\" onclick=\"convertToInteractive('df-101a8b1e-51b3-4931-97d7-e5dff1bd60f2')\"\n",
              "              title=\"Convert this dataframe to an interactive table.\"\n",
              "              style=\"display:none;\">\n",
              "        \n",
              "  <svg xmlns=\"http://www.w3.org/2000/svg\" height=\"24px\"viewBox=\"0 0 24 24\"\n",
              "       width=\"24px\">\n",
              "    <path d=\"M0 0h24v24H0V0z\" fill=\"none\"/>\n",
              "    <path d=\"M18.56 5.44l.94 2.06.94-2.06 2.06-.94-2.06-.94-.94-2.06-.94 2.06-2.06.94zm-11 1L8.5 8.5l.94-2.06 2.06-.94-2.06-.94L8.5 2.5l-.94 2.06-2.06.94zm10 10l.94 2.06.94-2.06 2.06-.94-2.06-.94-.94-2.06-.94 2.06-2.06.94z\"/><path d=\"M17.41 7.96l-1.37-1.37c-.4-.4-.92-.59-1.43-.59-.52 0-1.04.2-1.43.59L10.3 9.45l-7.72 7.72c-.78.78-.78 2.05 0 2.83L4 21.41c.39.39.9.59 1.41.59.51 0 1.02-.2 1.41-.59l7.78-7.78 2.81-2.81c.8-.78.8-2.07 0-2.86zM5.41 20L4 18.59l7.72-7.72 1.47 1.35L5.41 20z\"/>\n",
              "  </svg>\n",
              "      </button>\n",
              "      \n",
              "  <style>\n",
              "    .colab-df-container {\n",
              "      display:flex;\n",
              "      flex-wrap:wrap;\n",
              "      gap: 12px;\n",
              "    }\n",
              "\n",
              "    .colab-df-convert {\n",
              "      background-color: #E8F0FE;\n",
              "      border: none;\n",
              "      border-radius: 50%;\n",
              "      cursor: pointer;\n",
              "      display: none;\n",
              "      fill: #1967D2;\n",
              "      height: 32px;\n",
              "      padding: 0 0 0 0;\n",
              "      width: 32px;\n",
              "    }\n",
              "\n",
              "    .colab-df-convert:hover {\n",
              "      background-color: #E2EBFA;\n",
              "      box-shadow: 0px 1px 2px rgba(60, 64, 67, 0.3), 0px 1px 3px 1px rgba(60, 64, 67, 0.15);\n",
              "      fill: #174EA6;\n",
              "    }\n",
              "\n",
              "    [theme=dark] .colab-df-convert {\n",
              "      background-color: #3B4455;\n",
              "      fill: #D2E3FC;\n",
              "    }\n",
              "\n",
              "    [theme=dark] .colab-df-convert:hover {\n",
              "      background-color: #434B5C;\n",
              "      box-shadow: 0px 1px 3px 1px rgba(0, 0, 0, 0.15);\n",
              "      filter: drop-shadow(0px 1px 2px rgba(0, 0, 0, 0.3));\n",
              "      fill: #FFFFFF;\n",
              "    }\n",
              "  </style>\n",
              "\n",
              "      <script>\n",
              "        const buttonEl =\n",
              "          document.querySelector('#df-101a8b1e-51b3-4931-97d7-e5dff1bd60f2 button.colab-df-convert');\n",
              "        buttonEl.style.display =\n",
              "          google.colab.kernel.accessAllowed ? 'block' : 'none';\n",
              "\n",
              "        async function convertToInteractive(key) {\n",
              "          const element = document.querySelector('#df-101a8b1e-51b3-4931-97d7-e5dff1bd60f2');\n",
              "          const dataTable =\n",
              "            await google.colab.kernel.invokeFunction('convertToInteractive',\n",
              "                                                     [key], {});\n",
              "          if (!dataTable) return;\n",
              "\n",
              "          const docLinkHtml = 'Like what you see? Visit the ' +\n",
              "            '<a target=\"_blank\" href=https://colab.research.google.com/notebooks/data_table.ipynb>data table notebook</a>'\n",
              "            + ' to learn more about interactive tables.';\n",
              "          element.innerHTML = '';\n",
              "          dataTable['output_type'] = 'display_data';\n",
              "          await google.colab.output.renderOutput(dataTable, element);\n",
              "          const docLink = document.createElement('div');\n",
              "          docLink.innerHTML = docLinkHtml;\n",
              "          element.appendChild(docLink);\n",
              "        }\n",
              "      </script>\n",
              "    </div>\n",
              "  </div>\n",
              "  "
            ]
          },
          "metadata": {},
          "execution_count": 5
        }
      ]
    },
    {
      "cell_type": "code",
      "source": [
        "df = pd.DataFrame(data, index=[\"학번 1\", \"학번 2\", \"학번 3\", \"학번 4\"])\n",
        "df"
      ],
      "metadata": {
        "colab": {
          "base_uri": "https://localhost:8080/",
          "height": 175
        },
        "id": "uaYkXhIrMG-U",
        "outputId": "4ff78743-c395-4321-a047-9f24831338c9"
      },
      "execution_count": 6,
      "outputs": [
        {
          "output_type": "execute_result",
          "data": {
            "text/plain": [
              "      Name  Age\n",
              "학번 1   Kim   20\n",
              "학번 2  Park   23\n",
              "학번 3   Lee   21\n",
              "학번 4  Choi   26"
            ],
            "text/html": [
              "\n",
              "  <div id=\"df-d6306b26-f494-4df7-b41c-39e9696bd039\">\n",
              "    <div class=\"colab-df-container\">\n",
              "      <div>\n",
              "<style scoped>\n",
              "    .dataframe tbody tr th:only-of-type {\n",
              "        vertical-align: middle;\n",
              "    }\n",
              "\n",
              "    .dataframe tbody tr th {\n",
              "        vertical-align: top;\n",
              "    }\n",
              "\n",
              "    .dataframe thead th {\n",
              "        text-align: right;\n",
              "    }\n",
              "</style>\n",
              "<table border=\"1\" class=\"dataframe\">\n",
              "  <thead>\n",
              "    <tr style=\"text-align: right;\">\n",
              "      <th></th>\n",
              "      <th>Name</th>\n",
              "      <th>Age</th>\n",
              "    </tr>\n",
              "  </thead>\n",
              "  <tbody>\n",
              "    <tr>\n",
              "      <th>학번 1</th>\n",
              "      <td>Kim</td>\n",
              "      <td>20</td>\n",
              "    </tr>\n",
              "    <tr>\n",
              "      <th>학번 2</th>\n",
              "      <td>Park</td>\n",
              "      <td>23</td>\n",
              "    </tr>\n",
              "    <tr>\n",
              "      <th>학번 3</th>\n",
              "      <td>Lee</td>\n",
              "      <td>21</td>\n",
              "    </tr>\n",
              "    <tr>\n",
              "      <th>학번 4</th>\n",
              "      <td>Choi</td>\n",
              "      <td>26</td>\n",
              "    </tr>\n",
              "  </tbody>\n",
              "</table>\n",
              "</div>\n",
              "      <button class=\"colab-df-convert\" onclick=\"convertToInteractive('df-d6306b26-f494-4df7-b41c-39e9696bd039')\"\n",
              "              title=\"Convert this dataframe to an interactive table.\"\n",
              "              style=\"display:none;\">\n",
              "        \n",
              "  <svg xmlns=\"http://www.w3.org/2000/svg\" height=\"24px\"viewBox=\"0 0 24 24\"\n",
              "       width=\"24px\">\n",
              "    <path d=\"M0 0h24v24H0V0z\" fill=\"none\"/>\n",
              "    <path d=\"M18.56 5.44l.94 2.06.94-2.06 2.06-.94-2.06-.94-.94-2.06-.94 2.06-2.06.94zm-11 1L8.5 8.5l.94-2.06 2.06-.94-2.06-.94L8.5 2.5l-.94 2.06-2.06.94zm10 10l.94 2.06.94-2.06 2.06-.94-2.06-.94-.94-2.06-.94 2.06-2.06.94z\"/><path d=\"M17.41 7.96l-1.37-1.37c-.4-.4-.92-.59-1.43-.59-.52 0-1.04.2-1.43.59L10.3 9.45l-7.72 7.72c-.78.78-.78 2.05 0 2.83L4 21.41c.39.39.9.59 1.41.59.51 0 1.02-.2 1.41-.59l7.78-7.78 2.81-2.81c.8-.78.8-2.07 0-2.86zM5.41 20L4 18.59l7.72-7.72 1.47 1.35L5.41 20z\"/>\n",
              "  </svg>\n",
              "      </button>\n",
              "      \n",
              "  <style>\n",
              "    .colab-df-container {\n",
              "      display:flex;\n",
              "      flex-wrap:wrap;\n",
              "      gap: 12px;\n",
              "    }\n",
              "\n",
              "    .colab-df-convert {\n",
              "      background-color: #E8F0FE;\n",
              "      border: none;\n",
              "      border-radius: 50%;\n",
              "      cursor: pointer;\n",
              "      display: none;\n",
              "      fill: #1967D2;\n",
              "      height: 32px;\n",
              "      padding: 0 0 0 0;\n",
              "      width: 32px;\n",
              "    }\n",
              "\n",
              "    .colab-df-convert:hover {\n",
              "      background-color: #E2EBFA;\n",
              "      box-shadow: 0px 1px 2px rgba(60, 64, 67, 0.3), 0px 1px 3px 1px rgba(60, 64, 67, 0.15);\n",
              "      fill: #174EA6;\n",
              "    }\n",
              "\n",
              "    [theme=dark] .colab-df-convert {\n",
              "      background-color: #3B4455;\n",
              "      fill: #D2E3FC;\n",
              "    }\n",
              "\n",
              "    [theme=dark] .colab-df-convert:hover {\n",
              "      background-color: #434B5C;\n",
              "      box-shadow: 0px 1px 3px 1px rgba(0, 0, 0, 0.15);\n",
              "      filter: drop-shadow(0px 1px 2px rgba(0, 0, 0, 0.3));\n",
              "      fill: #FFFFFF;\n",
              "    }\n",
              "  </style>\n",
              "\n",
              "      <script>\n",
              "        const buttonEl =\n",
              "          document.querySelector('#df-d6306b26-f494-4df7-b41c-39e9696bd039 button.colab-df-convert');\n",
              "        buttonEl.style.display =\n",
              "          google.colab.kernel.accessAllowed ? 'block' : 'none';\n",
              "\n",
              "        async function convertToInteractive(key) {\n",
              "          const element = document.querySelector('#df-d6306b26-f494-4df7-b41c-39e9696bd039');\n",
              "          const dataTable =\n",
              "            await google.colab.kernel.invokeFunction('convertToInteractive',\n",
              "                                                     [key], {});\n",
              "          if (!dataTable) return;\n",
              "\n",
              "          const docLinkHtml = 'Like what you see? Visit the ' +\n",
              "            '<a target=\"_blank\" href=https://colab.research.google.com/notebooks/data_table.ipynb>data table notebook</a>'\n",
              "            + ' to learn more about interactive tables.';\n",
              "          element.innerHTML = '';\n",
              "          dataTable['output_type'] = 'display_data';\n",
              "          await google.colab.output.renderOutput(dataTable, element);\n",
              "          const docLink = document.createElement('div');\n",
              "          docLink.innerHTML = docLinkHtml;\n",
              "          element.appendChild(docLink);\n",
              "        }\n",
              "      </script>\n",
              "    </div>\n",
              "  </div>\n",
              "  "
            ]
          },
          "metadata": {},
          "execution_count": 6
        }
      ]
    },
    {
      "cell_type": "code",
      "source": [
        "import matplotlib.pyplot as plt \n",
        "import pandas as pd\n",
        "\n",
        "df = pd.DataFrame(\n",
        "    { 'name':['Kim','Lee','Park','Choi','Hong','Chung','Jang'], \n",
        "      'age':[22,26,78,17,46,32,21], \n",
        "      'city':['Seoul','Busan','Seoul','Busan','Seoul','Daejun','Daejun'], \n",
        "      'children':[2,3,0,1,3,4,3],\n",
        "      'pets':[0,1,0,2,2,0,3]\n",
        "    })\n",
        "\n",
        "# ax = plt.gca()\n",
        "# df.plot(kind='line',x='name',y='children',ax=ax)\n",
        "# df.plot(kind='line',x='name',y='pets', color='red', ax=ax)\n",
        "\n",
        "# df.plot(kind='bar',x='name',y='age')\n",
        "\n",
        "df[['age']].plot(kind='hist', bins=[0, 20, 40, 60, 80, 100], rwidth=0.8)\n",
        "\n",
        "plt.show()"
      ],
      "metadata": {
        "colab": {
          "base_uri": "https://localhost:8080/",
          "height": 430
        },
        "id": "tLOO0Mb5MQxP",
        "outputId": "4877af90-52ea-441b-b3e7-7ca16e73651a"
      },
      "execution_count": 12,
      "outputs": [
        {
          "output_type": "display_data",
          "data": {
            "text/plain": [
              "<Figure size 640x480 with 1 Axes>"
            ],
            "image/png": "[encoded data removed]"
          },
          "metadata": {}
        }
      ]
    },
    {
      "cell_type": "code",
      "source": [
        "import pandas as pd\n",
        "import matplotlib.pyplot as plt\n",
        "\n",
        "# Creating a DataFrame\n",
        "df = pd.DataFrame({\n",
        "    'Brand': ['Toyota', 'Hyundai', 'Ford', 'Honda', 'Hyundai', 'Toyota', 'Ford', 'Honda'],\n",
        "    'Model': ['Corolla', 'Elantra', 'Mustang', 'Civic', 'Sonata', 'Camry', 'Focus', 'Accord'],\n",
        "    'Year': [2018, 2019, 2020, 2018, 2020, 2017, 2019, 2020],\n",
        "    'Price': [20000, 18000, 26000, 22000, 21000, 24000, 20000, 23000]\n",
        "})\n",
        "\n",
        "# Creating a pivot table with average prices for each car model by brand\n",
        "table = pd.pivot_table(\n",
        "    df, index=['Brand', 'Model'], values=['Price'], aggfunc=np.mean)\n",
        "\n",
        "# Plotting the average prices\n",
        "table.plot(kind='bar', title='Average Car Price by Brand and Model', ylabel='Price')\n",
        "plt.show()\n"
      ],
      "metadata": {
        "colab": {
          "base_uri": "https://localhost:8080/",
          "height": 585
        },
        "id": "yFVsygc6OUjk",
        "outputId": "27788a42-e439-409f-8e95-f9b8ee9d03f3"
      },
      "execution_count": 31,
      "outputs": [
        {
          "output_type": "display_data",
          "data": {
            "text/plain": [
              "<Figure size 640x480 with 1 Axes>"
            ],
            "image/png": "[encoded data removed]"
          },
          "metadata": {}
        }
      ]
    }
  ]
}