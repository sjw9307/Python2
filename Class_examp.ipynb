{
  "nbformat": 4,
  "nbformat_minor": 0,
  "metadata": {
    "colab": {
      "provenance": [],
      "authorship_tag": "ABX9TyN+8Wk4oaDFaVwROqyLlzw2",
      "include_colab_link": true
    },
    "kernelspec": {
      "name": "python3",
      "display_name": "Python 3"
    },
    "language_info": {
      "name": "python"
    }
  },
  "cells": [
    {
      "cell_type": "markdown",
      "metadata": {
        "id": "view-in-github",
        "colab_type": "text"
      },
      "source": [
        "<a href=\"https://colab.research.google.com/github/sjw9307/Python2/blob/mater/Class_examp.ipynb\" target=\"_parent\"><img src=\"https://colab.research.google.com/assets/colab-badge.svg\" alt=\"Open In Colab\"/></a>"
      ]
    },
    {
      "cell_type": "code",
      "execution_count": 6,
      "metadata": {
        "colab": {
          "base_uri": "https://localhost:8080/"
        },
        "id": "PR2tMXnmOFbo",
        "outputId": "3ed64949-b770-43c4-ddb7-915eec7c39b2"
      },
      "outputs": [
        {
          "output_type": "stream",
          "name": "stdout",
          "text": [
            "전원을 켠다. ON\n"
          ]
        }
      ],
      "source": [
        "class Tv:\n",
        "  power = \"OFF\"\n",
        "  def turnOn(self):\n",
        "    power = \"ON\"\n",
        "    print(\"전원을 켠다.\", power)\n",
        "\n",
        "\n",
        "tv1 = Tv()\n",
        "tv1.turnOn()\n"
      ]
    },
    {
      "cell_type": "code",
      "source": [
        "class Student:\n",
        "  name = \"홍길동\"\n",
        "  stu_id = \"1234\"\n",
        "\n",
        "  def display(self):\n",
        "    print(self.name,\"의 학번 :\",self.stu_id)\n",
        "\n",
        "stu1 = Student()\n",
        "stu1.display()"
      ],
      "metadata": {
        "colab": {
          "base_uri": "https://localhost:8080/"
        },
        "id": "s9dcMRv5QQaE",
        "outputId": "b2f35869-33c1-42f4-8249-6824630572d5"
      },
      "execution_count": 13,
      "outputs": [
        {
          "output_type": "stream",
          "name": "stdout",
          "text": [
            "홍길동 의 학번 : 1234\n"
          ]
        }
      ]
    },
    {
      "cell_type": "code",
      "source": [
        "class Student:\n",
        "  def __init__(self, name, stu_id):\n",
        "    self.name = name\n",
        "    self.stu_id = stu_id\n",
        "\n",
        "  def display(self):\n",
        "    print(self.name,\"의 학번 :\",self.stu_id)\n",
        "\n",
        "stu1 = Student(\"Jinwon SEO\" , \"20228338\")\n",
        "stu1.display()\n",
        "print(stu1.name,stu1.stu_id)"
      ],
      "metadata": {
        "colab": {
          "base_uri": "https://localhost:8080/"
        },
        "id": "2HBWnMsgSNrG",
        "outputId": "59d8946f-eefd-4e84-9090-07a5a43f2e2f"
      },
      "execution_count": 26,
      "outputs": [
        {
          "output_type": "stream",
          "name": "stdout",
          "text": [
            "Jinwon SEO 의 학번 : 20228338\n",
            "Jinwon SEO 20228338\n"
          ]
        }
      ]
    },
    {
      "cell_type": "code",
      "source": [
        "class Tv:\n",
        "  def __init__(self, power= \"OFF\", channel= \"11\"):\n",
        "    self.power = power\n",
        "    self.channel = channel\n",
        "  \n",
        "  def turnOn(self):\n",
        "    self.power = \"ON\"\n",
        "\n",
        "  def show(self):\n",
        "    print(\"Tv상태\", self.power, self.channel)\n",
        "  \n",
        "\n",
        "tv1 = Tv(\"On,5\")\n",
        "tv1.turnOn()\n",
        "tv1.show()\n"
      ],
      "metadata": {
        "colab": {
          "base_uri": "https://localhost:8080/"
        },
        "id": "hgpIapCXSaxJ",
        "outputId": "b909200b-81d1-4edb-8587-778506d9aee5"
      },
      "execution_count": 25,
      "outputs": [
        {
          "output_type": "stream",
          "name": "stdout",
          "text": [
            "Tv상태 ON 11\n"
          ]
        }
      ]
    },
    {
      "cell_type": "code",
      "source": [
        "PI = 3.141592\n",
        "\n",
        "class Circle:\n",
        "  def __init__(self, radius= 0.0):\n",
        "    self.radius = radius\n",
        "  \n",
        "  def getArea(self):\n",
        "    return self.radius * self.radius * PI\n",
        "\n",
        "C1 = Circle(5)\n",
        "C1.getArea()\n"
      ],
      "metadata": {
        "colab": {
          "base_uri": "https://localhost:8080/"
        },
        "id": "tuIySTSlXsA-",
        "outputId": "4e3804e5-601d-4be3-e931-5972992ab50a"
      },
      "execution_count": 34,
      "outputs": [
        {
          "output_type": "execute_result",
          "data": {
            "text/plain": [
              "78.5398"
            ]
          },
          "metadata": {},
          "execution_count": 34
        }
      ]
    },
    {
      "cell_type": "code",
      "source": [
        "class Calculator:\n",
        "  def __init__(self, x= 0.0, y = 0.0):\n",
        "    self.x = x;\n",
        "    self.y = y;\n",
        "    self.add_result = 0;\n",
        "    self.sub_result = 0;\n",
        "    \n",
        "  def add(self):\n",
        "    self.add_result = self.x + self.y\n",
        "\n",
        "  def sub(self):\n",
        "    self.sub_result = self.x - self.y\n",
        "\n",
        "  def show_add_result(self):\n",
        "    print(\"x와 y 의 합은: \", self.add_result ,\"입니다.\")\n",
        "\n",
        "  def show_sub_result(self):\n",
        "    print(\"x와 y 의 차는: \", self.sub_result ,\"입니다.\")\n",
        "\n",
        "C2 = Calculator(1,0.5)\n",
        "C2.add()\n",
        "C2.sub()\n",
        "C2.show_add_result()\n",
        "C2.show_sub_result()\n"
      ],
      "metadata": {
        "colab": {
          "base_uri": "https://localhost:8080/"
        },
        "id": "fRRU1jMkapm9",
        "outputId": "6dc7be06-4f26-4a61-81de-83735ae8931f"
      },
      "execution_count": 44,
      "outputs": [
        {
          "output_type": "stream",
          "name": "stdout",
          "text": [
            "x와 y 의 합은:  1.5 입니다.\n",
            "x와 y 의 차는:  0.5 입니다.\n"
          ]
        }
      ]
    },
    {
      "cell_type": "code",
      "source": [
        "class BankAccount:\n",
        "  def __init__(self, balance = 0.0):\n",
        "    self.balance = balance;\n",
        "\n",
        "  def deposit(self, income):\n",
        "    if (income < 0) :\n",
        "      print(\"입금하는 금액은 음수가 될 수 없습니다.\")\n",
        "    \n",
        "    else :\n",
        "      self.balance = self.balance + income\n",
        "      return print(\"통장에\", income,\"이 입금되었습니다. 잔액: \", self.balance)\n",
        "  \n",
        "  def withdraw(self, withdraw):\n",
        "    self.balance = self.balance - withdraw\n",
        "    return print(\"통장에\", withdraw,\"만큼 \u001d출금되었습니다. 잔액: \", self.balance)\n",
        "  \n",
        "acc1 = BankAccount(100)\n",
        "acc1.deposit(-1)\n",
        "acc1.withdraw(10)\n"
      ],
      "metadata": {
        "colab": {
          "base_uri": "https://localhost:8080/"
        },
        "id": "nYMPRM9TevEu",
        "outputId": "13c5d581-7930-4a48-971e-ea56ecb56c05"
      },
      "execution_count": 51,
      "outputs": [
        {
          "output_type": "stream",
          "name": "stdout",
          "text": [
            "입금하는 금액은 음수가 될 수 없습니다.\n",
            "통장에 10 만큼 \u001d출금되었습니다. 잔액:  90\n"
          ]
        }
      ]
    }
  ]
}