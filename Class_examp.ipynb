{
  "nbformat": 4,
  "nbformat_minor": 0,
  "metadata": {
    "colab": {
      "provenance": [],
      "authorship_tag": "ABX9TyMNavt7rZG61L5daXmiSC2e",
      "include_colab_link": true
    },
    "kernelspec": {
      "name": "python3",
      "display_name": "Python 3"
    },
    "language_info": {
      "name": "python"
    }
  },
  "cells": [
    {
      "cell_type": "markdown",
      "metadata": {
        "id": "view-in-github",
        "colab_type": "text"
      },
      "source": [
        "<a href=\"https://colab.research.google.com/github/sjw9307/Python2/blob/mater/Class_examp.ipynb\" target=\"_parent\"><img src=\"https://colab.research.google.com/assets/colab-badge.svg\" alt=\"Open In Colab\"/></a>"
      ]
    },
    {
      "cell_type": "code",
      "execution_count": null,
      "metadata": {
        "colab": {
          "base_uri": "https://localhost:8080/"
        },
        "id": "PR2tMXnmOFbo",
        "outputId": "3ed64949-b770-43c4-ddb7-915eec7c39b2"
      },
      "outputs": [
        {
          "output_type": "stream",
          "name": "stdout",
          "text": [
            "전원을 켠다. ON\n"
          ]
        }
      ],
      "source": [
        "class Tv:\n",
        "  power = \"OFF\"\n",
        "  def turnOn(self):\n",
        "    power = \"ON\"\n",
        "    print(\"전원을 켠다.\", power)\n",
        "\n",
        "\n",
        "tv1 = Tv()\n",
        "tv1.turnOn()\n"
      ]
    },
    {
      "cell_type": "code",
      "source": [
        "class Student:\n",
        "  name = \"홍길동\"\n",
        "  stu_id = \"1234\"\n",
        "\n",
        "  def display(self):\n",
        "    print(self.name,\"의 학번 :\",self.stu_id)\n",
        "\n",
        "stu1 = Student()\n",
        "stu1.display()"
      ],
      "metadata": {
        "colab": {
          "base_uri": "https://localhost:8080/"
        },
        "id": "s9dcMRv5QQaE",
        "outputId": "b2f35869-33c1-42f4-8249-6824630572d5"
      },
      "execution_count": null,
      "outputs": [
        {
          "output_type": "stream",
          "name": "stdout",
          "text": [
            "홍길동 의 학번 : 1234\n"
          ]
        }
      ]
    },
    {
      "cell_type": "code",
      "source": [
        "class Student:\n",
        "  def __init__(self, name, stu_id):\n",
        "    self.name = name\n",
        "    self.stu_id = stu_id\n",
        "\n",
        "  def display(self):\n",
        "    print(self.name,\"의 학번 :\",self.stu_id)\n",
        "\n",
        "stu1 = Student(\"Jinwon SEO\" , \"20228338\")\n",
        "stu1.display()\n",
        "print(stu1.name,stu1.stu_id)"
      ],
      "metadata": {
        "colab": {
          "base_uri": "https://localhost:8080/"
        },
        "id": "2HBWnMsgSNrG",
        "outputId": "59d8946f-eefd-4e84-9090-07a5a43f2e2f"
      },
      "execution_count": null,
      "outputs": [
        {
          "output_type": "stream",
          "name": "stdout",
          "text": [
            "Jinwon SEO 의 학번 : 20228338\n",
            "Jinwon SEO 20228338\n"
          ]
        }
      ]
    },
    {
      "cell_type": "code",
      "source": [
        "class Tv:\n",
        "  def __init__(self, power= \"OFF\", channel= \"11\"):\n",
        "    self.power = power\n",
        "    self.channel = channel\n",
        "  \n",
        "  def turnOn(self):\n",
        "    self.power = \"ON\"\n",
        "\n",
        "  def show(self):\n",
        "    print(\"Tv상태\", self.power, self.channel)\n",
        "  \n",
        "\n",
        "tv1 = Tv(\"On,5\")\n",
        "tv1.turnOn()\n",
        "tv1.show()\n"
      ],
      "metadata": {
        "colab": {
          "base_uri": "https://localhost:8080/"
        },
        "id": "hgpIapCXSaxJ",
        "outputId": "b909200b-81d1-4edb-8587-778506d9aee5"
      },
      "execution_count": null,
      "outputs": [
        {
          "output_type": "stream",
          "name": "stdout",
          "text": [
            "Tv상태 ON 11\n"
          ]
        }
      ]
    },
    {
      "cell_type": "code",
      "source": [
        "PI = 3.141592\n",
        "\n",
        "class Circle:\n",
        "  def __init__(self, radius= 0.0):\n",
        "    self.radius = radius\n",
        "  \n",
        "  def getArea(self):\n",
        "    return self.radius * self.radius * PI\n",
        "\n",
        "C1 = Circle(5)\n",
        "C1.getArea()\n"
      ],
      "metadata": {
        "colab": {
          "base_uri": "https://localhost:8080/"
        },
        "id": "tuIySTSlXsA-",
        "outputId": "4e3804e5-601d-4be3-e931-5972992ab50a"
      },
      "execution_count": null,
      "outputs": [
        {
          "output_type": "execute_result",
          "data": {
            "text/plain": [
              "78.5398"
            ]
          },
          "metadata": {},
          "execution_count": 34
        }
      ]
    },
    {
      "cell_type": "code",
      "source": [
        "class Calculator:\n",
        "  def __init__(self, x= 0.0, y = 0.0):\n",
        "    self.x = x;\n",
        "    self.y = y;\n",
        "    self.add_result = 0;\n",
        "    self.sub_result = 0;\n",
        "    \n",
        "  def add(self):\n",
        "    self.add_result = self.x + self.y\n",
        "\n",
        "  def sub(self):\n",
        "    self.sub_result = self.x - self.y\n",
        "\n",
        "  def show_add_result(self):\n",
        "    print(\"x와 y 의 합은: \", self.add_result ,\"입니다.\")\n",
        "\n",
        "  def show_sub_result(self):\n",
        "    print(\"x와 y 의 차는: \", self.sub_result ,\"입니다.\")\n",
        "\n",
        "C2 = Calculator(1,0.5)\n",
        "C2.add()\n",
        "C2.sub()\n",
        "C2.show_add_result()\n",
        "C2.show_sub_result()\n"
      ],
      "metadata": {
        "colab": {
          "base_uri": "https://localhost:8080/"
        },
        "id": "fRRU1jMkapm9",
        "outputId": "6dc7be06-4f26-4a61-81de-83735ae8931f"
      },
      "execution_count": null,
      "outputs": [
        {
          "output_type": "stream",
          "name": "stdout",
          "text": [
            "x와 y 의 합은:  1.5 입니다.\n",
            "x와 y 의 차는:  0.5 입니다.\n"
          ]
        }
      ]
    },
    {
      "cell_type": "code",
      "source": [
        "class BankAccount:\n",
        "  def __init__(self, balance = 0.0):\n",
        "    self.balance = balance;\n",
        "\n",
        "  def deposit(self, income):\n",
        "    if (income < 0) :\n",
        "      print(\"입금하는 금액은 음수가 될 수 없습니다.\")\n",
        "    \n",
        "    else :\n",
        "      self.balance = self.balance + income\n",
        "      return print(\"통장에\", income,\"이 입금되었습니다. 잔액: \", self.balance)\n",
        "  \n",
        "  def withdraw(self, withdraw):\n",
        "    self.balance = self.balance - withdraw\n",
        "    return print(\"통장에\", withdraw,\"만큼 출금되었습니다. 잔액: \", self.balance)\n",
        "  \n",
        "acc1 = BankAccount(100)\n",
        "acc1.deposit(-1)\n",
        "acc1.withdraw(10)\n"
      ],
      "metadata": {
        "colab": {
          "base_uri": "https://localhost:8080/"
        },
        "id": "nYMPRM9TevEu",
        "outputId": "13c5d581-7930-4a48-971e-ea56ecb56c05"
      },
      "execution_count": null,
      "outputs": [
        {
          "output_type": "stream",
          "name": "stdout",
          "text": [
            "입금하는 금액은 음수가 될 수 없습니다.\n",
            "통장에 10 만큼 \u001d출금되었습니다. 잔액:  90\n"
          ]
        }
      ]
    },
    {
      "cell_type": "code",
      "source": [
        "class Item:\n",
        "  def __init__(self, item_name = \"\", item_price = 0):\n",
        "    self.item_name = item_name;\n",
        "    self.item_price = item_price;\n",
        "\n",
        "  def display_info(Item):\n",
        "    print(\"물건 이름: \", Item.item_name)\n",
        "    print(\"물건 가격: \", Item.item_price)\n",
        "\n",
        "\n",
        "book = Item(\"책\", 5000)\n",
        "pen = Item(\"펜\", 1000)\n",
        "\n",
        "book.display_info()\n",
        "pen.display_info()"
      ],
      "metadata": {
        "colab": {
          "base_uri": "https://localhost:8080/"
        },
        "id": "L_AcRH1t0Dal",
        "outputId": "100a12a0-b616-4b56-ad7e-bd14d3955631"
      },
      "execution_count": null,
      "outputs": [
        {
          "output_type": "stream",
          "name": "stdout",
          "text": [
            "물건 이름:  책\n",
            "물건 가격:  5000\n",
            "물건 이름:  펜\n",
            "물건 가격:  1000\n"
          ]
        }
      ]
    },
    {
      "cell_type": "code",
      "source": [
        "# 이 클래스는 간단한 계산기의 기능을 갖춘 Calculator 클래스입니다.\n",
        "class Calculator:\n",
        "  # 생성자 함수입니다. 이 클래스의 인스턴스가 만들어질 때 호출되며, 계산기의 초기 값을 0으로 설정합니다.\n",
        "  def __init__(self):\n",
        "      self.value = 0  # 인스턴스의 초기 값이 0이 됩니다.\n",
        "\n",
        "  # add 함수는 주어진 값을 현재 값에 더하는 기능을 합니다.\n",
        "  def add(self,val):\n",
        "      self.value += val  # 주어진 val 값을 현재 값에 더합니다.\n",
        "\n",
        "  # minus 함수는 주어진 값을 현재 값에서 뺀다는 기능을 합니다.\n",
        "  def minus(self,val):\n",
        "      self.value -= val  # 주어진 val 값을 현재 값에서 뺍니다.\n",
        "\n",
        "# Calculator 클래스의 인스턴스를 생성합니다.\n",
        "cal = Calculator()\n",
        "\n",
        "# add 함수를 사용하여 10을 더합니다.\n",
        "cal.add(10)\n",
        "\n",
        "# minus 함수를 사용하여 7을 빼줍니다.\n",
        "cal.minus(7)\n",
        "\n",
        "# 마지막으로 계산 결과를 출력합니다. 초기 값이 0에서 10을 더하고 7을 뺀 3이 출력됩니다.\n",
        "print(cal.value)\n"
      ],
      "metadata": {
        "id": "b7T5Vszs1t4t",
        "colab": {
          "base_uri": "https://localhost:8080/"
        },
        "outputId": "0f997a1a-4b72-4946-a72d-820125bfdda8"
      },
      "execution_count": 4,
      "outputs": [
        {
          "output_type": "stream",
          "name": "stdout",
          "text": [
            "3\n"
          ]
        }
      ]
    },
    {
      "cell_type": "code",
      "source": [
        "class Student:\n",
        "  # 생성자 함수입니다.입력받은 이름과 학번을 저장합니다.\n",
        "  def __init__(self, name, age):\n",
        "      self.name = name  # 입력받은 이름을 인스턴스의 이름으로 설정합니다.\n",
        "      self.age = age  # 입력받은 학번을 인스턴스의 학번으로 설정합니다.\n",
        "\n",
        "# Student 클래스의 인스턴스를 생성하고, 이름과 학번을 설정합니다.\n",
        "student1 = Student(\"홍길동\", \"12345\")\n",
        "\n",
        "# 학생의 이름과 학번을 출력합니다.\n",
        "print(\"이름 : \" ,student1.name, \"학번 : \", student1.age)\n"
      ],
      "metadata": {
        "colab": {
          "base_uri": "https://localhost:8080/"
        },
        "id": "v7A_S7LctU_9",
        "outputId": "269230fd-a12d-481f-ffe9-ac5e11917db8"
      },
      "execution_count": 6,
      "outputs": [
        {
          "output_type": "stream",
          "name": "stdout",
          "text": [
            "이름 :  홍길동 학번 :  12345\n"
          ]
        }
      ]
    }
  ]
}