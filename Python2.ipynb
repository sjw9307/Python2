{
  "nbformat": 4,
  "nbformat_minor": 0,
  "metadata": {
    "colab": {
      "provenance": [],
      "authorship_tag": "ABX9TyN2UWiCUccS2rsgdiPPBeCG",
      "include_colab_link": true
    },
    "kernelspec": {
      "name": "python3",
      "display_name": "Python 3"
    },
    "language_info": {
      "name": "python"
    }
  },
  "cells": [
    {
      "cell_type": "markdown",
      "metadata": {
        "id": "view-in-github",
        "colab_type": "text"
      },
      "source": [
        "<a href=\"https://colab.research.google.com/github/sjw9307/Python2/blob/mater/Python2.ipynb\" target=\"_parent\"><img src=\"https://colab.research.google.com/assets/colab-badge.svg\" alt=\"Open In Colab\"/></a>"
      ]
    },
    {
      "cell_type": "code",
      "execution_count": 5,
      "metadata": {
        "colab": {
          "base_uri": "https://localhost:8080/"
        },
        "id": "h-9zd4mprhI5",
        "outputId": "52dcc3f1-9efa-41c8-919f-b9f4d39535a6"
      },
      "outputs": [
        {
          "output_type": "stream",
          "name": "stdout",
          "text": [
            "주차 요금: [4500, 7000, 2000, 12000, 2500]원\n"
          ]
        }
      ],
      "source": [
        "park_times = [80, 130, 30, 230, 40] # 차량 5 대에 대한 주차 시간(분 단위) 리스트\n",
        "free_time = 30 # 무료 주차 시간 (분 단위)\n",
        "base_fee = 2000 # 기본 요금\n",
        "extra_fee_rate = 500 # 추가 요금 비율 (10 분당 500 원)\n",
        "total_fees = [] # 총 주차 요금 리스트 초기화\n",
        "max_fee = 20000 # 최대 요금\n",
        "\n",
        "def parkFee():\n",
        "  for park_time in park_times: # 각 차량의 주차 시간에 대해 계산\n",
        "      if park_time < free_time: #for문의 변수 설정이 i가 아닌 park로 설정되있어 조금 헤맸습니다 &30분에 대한 차량에 요금청구가 이해가 안갑니다.\n",
        "          total_fee = 0\n",
        "      else:\n",
        "          total_fee = base_fee + ( ((park_time - free_time) // 10) * extra_fee_rate )\n",
        "          total_fee = total_fee if total_fee <= max_fee else max_fee #삼항연산식\n",
        "          #total_fee = min(total_fee, max_fee) min함수를 이용한 간단식\n",
        "      \n",
        "      total_fees.append(total_fee) # 사이즈가 정해지지 않은 total_fees배열에 append함수를 사용하여 배열을 채움.\n",
        "  return total_fees\n",
        "\n",
        "def main():\n",
        "    print(f\"주차 요금: {parkFee()}원\")\n",
        "  \n",
        "main()"
      ]
    }
  ]
}