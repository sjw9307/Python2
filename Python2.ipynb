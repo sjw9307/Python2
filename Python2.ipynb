{
  "cells": [
    {
      "cell_type": "markdown",
      "metadata": {
        "id": "view-in-github",
        "colab_type": "text"
      },
      "source": [
        "<a href=\"https://colab.research.google.com/github/sjw9307/Python2/blob/mater/Python2.ipynb\" target=\"_parent\"><img src=\"https://colab.research.google.com/assets/colab-badge.svg\" alt=\"Open In Colab\"/></a>"
      ]
    },
    {
      "cell_type": "code",
      "execution_count": null,
      "metadata": {
        "colab": {
          "base_uri": "https://localhost:8080/"
        },
        "id": "h-9zd4mprhI5",
        "outputId": "52dcc3f1-9efa-41c8-919f-b9f4d39535a6"
      },
      "outputs": [
        {
          "name": "stdout",
          "output_type": "stream",
          "text": [
            "주차 요금: [4500, 7000, 2000, 12000, 2500]원\n"
          ]
        }
      ],
      "source": [
        "park_times = [80, 130, 30, 230, 40] # 차량 5 대에 대한 주차 시간(분 단위) 리스트\n",
        "free_time = 30 # 무료 주차 시간 (분 단위)\n",
        "base_fee = 2000 # 기본 요금\n",
        "extra_fee_rate = 500 # 추가 요금 비율 (10 분당 500 원)\n",
        "total_fees = [] # 총 주차 요금 리스트 초기화\n",
        "max_fee = 20000 # 최대 요금\n",
        "\n",
        "def parkFee():\n",
        "  for park_time in park_times: # 각 차량의 주차 시간에 대해 계산\n",
        "      if park_time < free_time: #for문의 변수 설정이 i가 아닌 park로 설정되있어 조금 헤맸습니다 &30분에 대한 차량에 요금청구가 이해가 안갑니다.\n",
        "          total_fee = 0\n",
        "      else:\n",
        "          total_fee = base_fee + ( ((park_time - free_time) // 10) * extra_fee_rate )\n",
        "          total_fee = total_fee if total_fee <= max_fee else max_fee #삼항연산식\n",
        "          #total_fee = min(total_fee, max_fee) min함수를 이용한 간단식\n",
        "      \n",
        "      total_fees.append(total_fee) # 사이즈가 정해지지 않은 total_fees배열에 append함수를 사용하여 배열을 채움.\n",
        "  return total_fees\n",
        "\n",
        "def main():\n",
        "    print(f\"주차 요금: {parkFee()}원\")\n",
        "  \n",
        "main()"
      ]
    },
    {
      "cell_type": "code",
      "execution_count": null,
      "metadata": {
        "colab": {
          "base_uri": "https://localhost:8080/"
        },
        "id": "mLJyDuortfzV",
        "outputId": "392c03fa-cce1-46a1-fc9e-7a3d091555bb"
      },
      "outputs": [
        {
          "name": "stdout",
          "output_type": "stream",
          "text": [
            "학생 이름을 입력하시오: 야야\n",
            "학생 학번을 입력하시오: 123\n",
            " -------------------------------- \n",
            "           학생정보             \n",
            " -------------------------------- \n",
            " 학생번호 : 123   학생 이름 : 야야\n"
          ]
        }
      ],
      "source": [
        "students_name = []\n",
        "students_number = []\n",
        "\n",
        "\n",
        "def std_info():\n",
        "    name = str(input(\"학생 이름을 입력하시오: \"))\n",
        "    id = int(input(\"학생 학번을 입력하시오: \"))\n",
        "    students_name.append(name)\n",
        "    students_number.append(id)\n",
        "\n",
        "\n",
        "def std_display(students_name, students_number):\n",
        "    print(\" -------------------------------- \")\n",
        "    print(\"           학생정보             \")\n",
        "    print(\" -------------------------------- \")\n",
        "\n",
        "    for i in range(len(students_name)):\n",
        "        print(f\" 학생번호 : {students_number[i]}   학생 이름 : {students_name[i]}\")\n",
        "\n",
        "\n",
        "def main():\n",
        "    std_info()\n",
        "    std_display(students_name, students_number)\n",
        "\n",
        "\n",
        "if __name__ == '__main__':\n",
        "    main()\n"
      ]
    },
    {
      "cell_type": "code",
      "execution_count": null,
      "metadata": {
        "colab": {
          "base_uri": "https://localhost:8080/"
        },
        "id": "DvOseSCu186U",
        "outputId": "02e08340-7342-4102-9356-3517e2e558de"
      },
      "outputs": [
        {
          "name": "stdout",
          "output_type": "stream",
          "text": [
            "성적을 입력하시오: 000\n",
            "성적을 입력하시오: ㄴㄴㄴ\n",
            "숫자만 입력 가능합니다.\n",
            "성적을 입력하시오: 0\n",
            "성적을 입력하시오: 2\n",
            "성적을 입력하시오: 33\n",
            "성적을 입력하시오: 000\n",
            " 성적평균 = 7.0\n",
            " 최대점수 = 33\n",
            " 최소점수 = 0\n",
            " 80점 이상 = 0 \n"
          ]
        }
      ],
      "source": [
        "scores= []\n",
        "cnt_80 = 0\n",
        "\n",
        "while len(scores) < 5:\n",
        "    input_score = input(\"성적을 입력하시오: \")\n",
        "    if input_score.isdigit():\n",
        "        scores.append(int(input_score))\n",
        "    else:\n",
        "        print(\"숫자만 입력 가능합니다.\")\n",
        "\n",
        "for i in range(len(scores)):\n",
        "  if(scores[i] >= 80):\n",
        "    cnt_80 = cnt_80 + 1\n",
        "\n",
        "print(f\" 성적평균 = { sum(scores) / len(scores) }\")\n",
        "print(f\" 최대점수 = { max(scores) }\")\n",
        "print(f\" 최소점수 = { min(scores) }\")\n",
        "print(f\" 80점 이상 = { cnt_80} \")\n"
      ]
    },
    {
      "cell_type": "code",
      "execution_count": null,
      "metadata": {
        "colab": {
          "base_uri": "https://localhost:8080/"
        },
        "id": "BFmUrPAW6R90",
        "outputId": "4db29a03-6958-423b-da6b-cabbb816300f"
      },
      "outputs": [
        {
          "name": "stdout",
          "output_type": "stream",
          "text": [
            "sort함수가 안된 나의 리스트 :  [-7, 2, 3, 8, 6, 6, 75, 38, 3, 2]\n",
            "sort함수가 완료된 나의 리스트 :  [-7, 2, 2, 3, 3, 6, 6, 8, 38, 75]\n",
            "마지막으로 두번째로 가장 큰 수 :  38\n"
          ]
        }
      ],
      "source": [
        "#두번째로 큰 수를 찾고싶다면?\n",
        "\n",
        "mylist = [-7,2,3,8,6,6,75,38,3,2]\n",
        "print(\"sort함수가 안된 나의 리스트 : \" , mylist)\n",
        "\n",
        "mylist.sort()\n",
        "print(\"sort함수가 완료된 나의 리스트 : \" , mylist)\n",
        "\n",
        "mylist.remove(max(mylist))\n",
        "\n",
        "print(\"마지막으로 두번째로 가장 큰 수 : \", max(mylist))"
      ]
    },
    {
      "cell_type": "code",
      "execution_count": null,
      "metadata": {
        "colab": {
          "base_uri": "https://localhost:8080/"
        },
        "id": "eMXfHiW4Ot9L",
        "outputId": "78b656ee-59a7-424a-8b60-21ea3bff519f"
      },
      "outputs": [
        {
          "name": "stdout",
          "output_type": "stream",
          "text": [
            "두 번째로 큰 수= 15\n"
          ]
        }
      ],
      "source": [
        "list1 = [1, 2, 3, 4, 15, 99]\n",
        "# 리스트를 정렬한다. \n",
        "list1.sort()\n",
        "# 뒤에서 두 번째 요소를 출력한다. \n",
        "print(\"두 번째로 큰 수=\", list1[-2])"
      ]
    },
    {
      "cell_type": "code",
      "execution_count": null,
      "metadata": {
        "colab": {
          "base_uri": "https://localhost:8080/"
        },
        "id": "LNI29oRIHvsE",
        "outputId": "2700240b-adc3-4212-e66f-a9aa8f1d85d4"
      },
      "outputs": [
        {
          "name": "stdout",
          "output_type": "stream",
          "text": [
            "which hero are you looking for?aa\n",
            "aa  not exist\n",
            "All the heroes we have ['Ironman', 'Thorr', 'Hulk']\n"
          ]
        }
      ],
      "source": [
        "heroes = [\"Ironman\",\"Thorr\",\"Hulk\"]\n",
        "\n",
        "input_value = str(input(\"which hero are you looking for?\"))\n",
        "\n",
        "if (input_value in heroes) :\n",
        "  heroes.remove(input_value)\n",
        "else :\n",
        "  print(input_value, \" not exist\")\n",
        "\n",
        "print(\"All the heroes we have\",heroes)"
      ]
    },
    {
      "cell_type": "code",
      "execution_count": null,
      "metadata": {
        "colab": {
          "base_uri": "https://localhost:8080/"
        },
        "id": "MF9u-O8mQ0hQ",
        "outputId": "3effcb53-f7ce-4cf2-e705-20f0ce579128"
      },
      "outputs": [
        {
          "name": "stdout",
          "output_type": "stream",
          "text": [
            " \n",
            "       ------------------\n",
            "          1. 친구 리스트 출력\n",
            "          2. 친구 추가\n",
            "          3. 친구 삭제\n",
            "          4. 이름 변경\n",
            "          9. 종료\n",
            "       -------------------\n",
            "      \n",
            " 메뉴를 선택하시오 : 9\n"
          ]
        }
      ],
      "source": [
        "#파이썬을 이용하여 친구들을 관리하는 프로그램을 작성하여 보자.\n",
        "\n",
        "print(\"\"\" \n",
        "       ------------------\n",
        "          1. 친구 리스트 출력\n",
        "          2. 친구 추가\n",
        "          3. 친구 삭제\n",
        "          4. 이름 변경\n",
        "          9. 종료\n",
        "       -------------------\n",
        "      \"\"\")\n",
        "\n",
        "friends_list = []\n",
        "while len(friends_list) < 9:\n",
        "  menu_select = input(\" 메뉴를 선택하시오 : \")\n",
        "  \n",
        "  if (menu_select.isdigit() and int(menu_select == 1)):\n",
        "    print(friends_list)\n",
        "  \n",
        "  elif (menu_select.isdigit() and int(menu_select) == 2):\n",
        "    friends_list.append(input(\"추가할 친구 이름을 입력하시오: \"))\n",
        "\n",
        "  elif (menu_select.isdigit() and int(menu_select) == 3):\n",
        "    friend = str(input(\"삭제할 친구 이름을 입력하시오: \"))\n",
        "\n",
        "    if (friend not in friends_list):\n",
        "        print(\"해당 친구는 친구 목록에 없습니다.\")\n",
        "    else : \n",
        "      friends_list.remove(friend) \n",
        "  \n",
        "  elif (menu_select.isdigit() and int(menu_select) == 4):\n",
        "      old_name = str(input(\"수정할 친구 이름을 입력하시오: \"))\n",
        "      if old_name in friends_list:\n",
        "        index = friends_list.index(old_name)\n",
        "        new_name = input(\"새로운 이름을 입력하시오:\")\n",
        "        friends_list[index] = new_name\n",
        "      else :\n",
        "        print(\"이름이 발견되지 않음.\")\n",
        "\n",
        "  elif (menu_select.isdigit() and int(menu_select) == 9):\n",
        "    break\n",
        "\n",
        "  else :\n",
        "    print(\"잘못된 입력입니다.\")"
      ]
    },
    {
      "cell_type": "code",
      "execution_count": null,
      "metadata": {
        "colab": {
          "base_uri": "https://localhost:8080/"
        },
        "id": "cdrjqnNarO_t",
        "outputId": "9a33284a-4640-411d-f9b2-0a40aaefde6a"
      },
      "outputs": [
        {
          "name": "stdout",
          "output_type": "stream",
          "text": [
            "the hotest day is fri and  21 degree\n"
          ]
        }
      ],
      "source": [
        "temps = [16,18,19,20,21,18,17]\n",
        "day_of_week = ['mon','tue','wed','thur','fri','sat','sun']\n",
        "\n",
        "Hottest_day = temps.index(max(temps))\n",
        "print(\"the hotest day is\", day_of_week[Hottest_day], \"and \", max(temps),\"degree\")"
      ]
    },
    {
      "cell_type": "code",
      "execution_count": null,
      "metadata": {
        "colab": {
          "base_uri": "https://localhost:8080/"
        },
        "id": "M4gwvcmCx3bg",
        "outputId": "60bb5a05-e0e9-416a-c228-1fcb2125bd35"
      },
      "outputs": [
        {
          "name": "stdout",
          "output_type": "stream",
          "text": [
            "인상 전:  [200, 250, 300, 280, 500]\n",
            "인상 후:  [260.0, 325.0, 390.0, 364.0, 650.0]\n"
          ]
        }
      ],
      "source": [
        "salaries = [200,250,300,280,500]\n",
        "print(\"인상 전: \", salaries)\n",
        "\n",
        "\n",
        "def increment(salary_list) :\n",
        "  for i in range(len(salaries)) :\n",
        "    salaries[i] += salaries[i]*0.3\n",
        "\n",
        "increment(salaries)\n",
        "\n",
        "print(\"인상 후: \", salaries)\n",
        "\n"
      ]
    },
    {
      "cell_type": "code",
      "execution_count": null,
      "metadata": {
        "colab": {
          "base_uri": "https://localhost:8080/"
        },
        "id": "tX5cwQa11Hgg",
        "outputId": "3f6c22d5-408e-46f2-dd2f-c58c1bccf64d"
      },
      "outputs": [
        {
          "name": "stdout",
          "output_type": "stream",
          "text": [
            "[0, 6, 12, 18, 24, 30, 36, 42, 48, 54, 60, 66, 72, 78, 84, 90, 96]\n"
          ]
        }
      ],
      "source": [
        "my_list = [0, 6, 12, 18, 24, 30, 36, 42, 48, 54, 60, 66, 72, 78, 84, 90, 96]\n",
        "my_selected_list = []\n",
        "\n",
        "for i in range(len(my_list)):\n",
        "  if (my_list[i] % 2 == 0 & my_list[i] % 3 == 0) :\n",
        "    my_selected_list.append(my_list[i])\n",
        "\n",
        "print(my_selected_list)"
      ]
    },
    {
      "cell_type": "code",
      "execution_count": null,
      "metadata": {
        "colab": {
          "base_uri": "https://localhost:8080/"
        },
        "id": "mVIoen8-2K8I",
        "outputId": "a0e37116-dc48-4ca8-fc1a-62defc0be10a"
      },
      "outputs": [
        {
          "name": "stdout",
          "output_type": "stream",
          "text": [
            "['짝수', '홀수', '짝수', '홀수', '짝수', '홀수', '짝수', '홀수', '짝수', '홀수']\n"
          ]
        }
      ],
      "source": [
        "my_list = [0,1,2,3,4,5,6,7,8,9]\n",
        "\n",
        "my_selected_list1 = []\n",
        "\n",
        "for i in range (len(my_list)):\n",
        "  if (my_list[i]%2 == 0) :\n",
        "    my_selected_list1.append(\"짝수\")\n",
        "  \n",
        "  else:\n",
        "    my_selected_list1.append(\"홀수\")\n",
        "\n",
        "print(my_selected_list1)\n",
        "\n",
        "\n"
      ]
    },
    {
      "cell_type": "code",
      "execution_count": null,
      "metadata": {
        "colab": {
          "base_uri": "https://localhost:8080/"
        },
        "id": "HWAdKZt44vj7",
        "outputId": "9a80e2f8-ad8f-46af-a11b-8b8aab5dd144"
      },
      "outputs": [
        {
          "name": "stdout",
          "output_type": "stream",
          "text": [
            "성적을 입력하시오30\n",
            "성적을 입력하시오30\n",
            "성적을 입력하시오30\n",
            "성적을 입력하시오30\n",
            "성적을 입력하시오30\n",
            "이 학생의 총 점수는 : 150 입니다\n"
          ]
        }
      ],
      "source": [
        "score = [] \n",
        "\n",
        "\n",
        "def sum(s) :\n",
        "  sum = 0\n",
        "  while (len(score)!= 5) :\n",
        "    score.append(int(input(\"성적을 입력하시오 \")))\n",
        "  for i in range(len(score)) :\n",
        "    sum = sum + score[i]\n",
        "  \n",
        "  return sum\n",
        "\n",
        "print(\"이 학생의 총 점수는 :\", sum(score),\"입니다\")"
      ]
    },
    {
      "cell_type": "code",
      "execution_count": null,
      "metadata": {
        "colab": {
          "base_uri": "https://localhost:8080/"
        },
        "id": "hNK8wdV5-Igy",
        "outputId": "910744b3-06e1-4b02-9c4d-de5cbf11ae89"
      },
      "outputs": [
        {
          "name": "stdout",
          "output_type": "stream",
          "text": [
            "[4, 7, 9, 10]\n",
            "['Z', 'C', 'F']\n"
          ]
        }
      ],
      "source": [
        "list1 = [4, 9, 7, 10]\n",
        "list2 = ['z', 'c', 'f']\n",
        "\n",
        "list1.sort()\n",
        "\n",
        "for i in range(len(list2)):\n",
        "    list2[i] = chr(ord(list2[i]) - 32)\n",
        "\n",
        "print(list1)\n",
        "print(list2)\n"
      ]
    },
    {
      "cell_type": "code",
      "execution_count": null,
      "metadata": {
        "id": "sbykT2NuP5Ug"
      },
      "outputs": [],
      "source": [
        "s = [\"Hello World!\"]\n",
        "s2 = [\"How are you?\"]\n",
        "\n",
        "result = list( set(s) & set(s2) )\n",
        "\n",
        "for i in result:\n",
        "  print(i, end = \" \")"
      ]
    },
    {
      "cell_type": "code",
      "execution_count": null,
      "metadata": {
        "id": "tHHSkraQSYQs"
      },
      "outputs": [],
      "source": [
        "# 사용자로부터 2개의 문자열을 받아서 두 문자열의 공통 문자를 출력하는 프로그램을 작성해보자.\n",
        "\n",
        "s = input(\"첫 번째 문자열을 입력하세요: \")\n",
        "s2 = input(\"두 번째 문자열을 입력하세요: \")\n",
        "\n",
        "result = list(set(s) & set(s2))\n",
        "\n",
        "for char in result:\n",
        "    print(char, end=\" \")\n"
      ]
    },
    {
      "cell_type": "code",
      "execution_count": null,
      "metadata": {
        "colab": {
          "base_uri": "https://localhost:8080/"
        },
        "id": "loIhOMyPSgQ8",
        "outputId": "07913a1a-8bd7-44a3-da58-8e900290d673"
      },
      "outputs": [
        {
          "name": "stdout",
          "output_type": "stream",
          "text": [
            "중복되지 않을 단어 수를 셀 문자열을 입력하세요: i am u ha ha\n",
            "i am u ha ha\n",
            "{'i', 'ha', 'u', 'am'} 4\n"
          ]
        }
      ],
      "source": [
        "# 사용자로부터 1개의 문자열을 받아서 중복되지 않은 단어의 개수를 출력하는 프로그램을 작성해보자.\n",
        "\n",
        "s = input(\"중복되지 않을 단어 수를 셀 문자열을 입력하세요: \")\n",
        "\n",
        "print(s)\n",
        "\n",
        "after_splited = []\n",
        "after_splited = s.split(\" \")\n",
        "\n",
        "after_setted = set(after_splited)\n",
        "\n",
        "print(after_setted,len(after_setted))"
      ]
    },
    {
      "cell_type": "code",
      "execution_count": null,
      "metadata": {
        "colab": {
          "base_uri": "https://localhost:8080/"
        },
        "id": "tGeHLgIOU-zj",
        "outputId": "9cd37e1f-0932-436d-c0b8-eac33bad4b13"
      },
      "outputs": [
        {
          "name": "stdout",
          "output_type": "stream",
          "text": [
            "{'MON': 20, 'TUES': 15, 'WED': 14, 'THUR': 13, 'FRI': 20, 'SAT': 19, 'SUN': 19}\n",
            "{'MON': 20, 'TUES': 15, 'WED': 14, 'THUR': 13, 'FRI': 20, 'SAT': 19}\n",
            "MON : 20\n",
            "TUES : 15\n",
            "WED : 14\n",
            "THUR : 13\n",
            "FRI : 20\n",
            "SAT : 19\n"
          ]
        }
      ],
      "source": [
        "temperature ={\"MON\":20,\"TUES\":15,\"WED\":14, \n",
        "              \"THUR\":13,\"FRI\":20,\"SAT\":19}\n",
        "\n",
        "temperature[\"SUN\"] = 19\n",
        "print(temperature)\n",
        "\n",
        "temperature.pop(\"SUN\")\n",
        "print(temperature)\n",
        "\n",
        "for i in temperature:\n",
        "  print(i, \":\" , temperature[i] )\n"
      ]
    },
    {
      "cell_type": "code",
      "execution_count": null,
      "metadata": {
        "colab": {
          "base_uri": "https://localhost:8080/"
        },
        "id": "NTvOzXb3Xev-",
        "outputId": "209e872d-3aa9-4210-c176-19aa26c99f96"
      },
      "outputs": [
        {
          "output_type": "stream",
          "name": "stdout",
          "text": [
            "{'one': '하나', 'two': '둘', 'three': '셋'}\n",
            "영어 단어를 입력하시오: 하나\n",
            "하나 가 사전에 없습니다.\n"
          ]
        }
      ],
      "source": [
        "#딕셔너리 초기화\n",
        "eng_kor_d = {}\n",
        "\n",
        "#딕셔너리 생성 예시 - 2\n",
        "eng_kor_d = {\"one\": \"하나\", \"two\": \"둘\", \"three\": \"셋\"}\n",
        "print(eng_kor_d)\n",
        "\n",
        "e_word = input(\"영어 단어를 입력하시오: \")\n",
        "if e_word in eng_kor_d:\n",
        "    print(eng_kor_d[e_word])\n",
        "else:\n",
        "    print(e_word, \"가 사전에 없습니다.\")"
      ]
    },
    {
      "cell_type": "code",
      "source": [
        "s1 = input(\"단어를 입력하시오: \")\n",
        "s2 = input(\"단어를 입력하시오: \")\n",
        "\n",
        "s2_reversed = s2[::-1]\n",
        "if s1 == s2_reversed:\n",
        "    print(\"It's a palindrome.\")\n",
        "else:\n",
        "    print(\"It's not a palindrome.\")\n"
      ],
      "metadata": {
        "colab": {
          "base_uri": "https://localhost:8080/"
        },
        "id": "d0Nz5UKbvaDf",
        "outputId": "ddaa2df0-17f3-480a-c4f4-c5a3c1c8f06e"
      },
      "execution_count": null,
      "outputs": [
        {
          "output_type": "stream",
          "name": "stdout",
          "text": [
            "단어를 입력하시오: abba\n",
            "단어를 입력하시오: abba\n",
            "It's a palindrome.\n"
          ]
        }
      ]
    },
    {
      "cell_type": "code",
      "source": [
        "def is_palindrome(s1, s2):\n",
        "    if len(s1) != len(s2):\n",
        "        return False\n",
        "\n",
        "    for i in range(len(s1)):\n",
        "        if s1[i] != s2[len(s2) - 1 - i]:\n",
        "            return False\n",
        "\n",
        "    return True\n",
        "\n",
        "s1 = input(\"단어를 입력하시오: \")\n",
        "s2 = input(\"단어를 입력하시오: \")\n",
        "\n",
        "if is_palindrome(s1, s2):\n",
        "    print(\"It's a palindrome.\")\n",
        "else:\n",
        "    print(\"It's not a palindrome.\")\n"
      ],
      "metadata": {
        "colab": {
          "base_uri": "https://localhost:8080/"
        },
        "id": "jHV6XuZCxole",
        "outputId": "3c0bde9c-22a7-48b5-80c4-2b2a7dbd7ca6"
      },
      "execution_count": null,
      "outputs": [
        {
          "output_type": "stream",
          "name": "stdout",
          "text": [
            "단어를 입력하시오: aba\n",
            "단어를 입력하시오: aba\n",
            "It's a palindrome.\n"
          ]
        }
      ]
    },
    {
      "cell_type": "code",
      "source": [
        "email = input(\"put email:\")\n",
        "lst = email.split('@')\n",
        "print(\"id: \", lst[0])\n",
        "print(\"rest: \", lst[1])"
      ],
      "metadata": {
        "colab": {
          "base_uri": "https://localhost:8080/"
        },
        "id": "Uu4ZA1y8x270",
        "outputId": "6109d316-3e22-4c1e-8d12-b402f2c5dcd8"
      },
      "execution_count": null,
      "outputs": [
        {
          "output_type": "stream",
          "name": "stdout",
          "text": [
            "put email:a@na.com\n",
            "id:  a\n",
            "rest:  na.com\n"
          ]
        }
      ]
    },
    {
      "cell_type": "code",
      "source": [
        "str = \"A picture is worth a thousand words.\"\n",
        "digits = 0\n",
        "spaces = 0\n",
        "alphas = 0\n",
        "\n",
        "for i in range(len(str)) :\n",
        "  if str[i].isdigit():\n",
        "    digits += 1\n",
        "  \n",
        "  elif str[i].isalpha():\n",
        "    alphas += 1\n",
        "  \n",
        "  elif str[i].isspace():\n",
        "    spaces += 1\n",
        "\n",
        "\n",
        "print(digits,spaces,alphas)"
      ],
      "metadata": {
        "colab": {
          "base_uri": "https://localhost:8080/"
        },
        "id": "9ga3kd7IyNAH",
        "outputId": "3ceea863-72b1-4bf9-a5ce-7417c683f836"
      },
      "execution_count": null,
      "outputs": [
        {
          "output_type": "stream",
          "name": "stdout",
          "text": [
            "0 6 29\n"
          ]
        }
      ]
    },
    {
      "cell_type": "code",
      "source": [
        "import matplotlib.pyplot as plt\n",
        "\n",
        "X = [ \"Mon\", \"Tue\", \"Wed\", \"Thur\", \"Fri\", \"Sat\", \"Sun\" ] \n",
        "Y = [15.6, 14.2, 16.3, 18.2, 17.1, 20.2, 22.4]\n",
        "\n",
        "plt.plot(X, Y) \n",
        "\n",
        "plt.xlabel(\"day\") \n",
        "plt.ylabel(\"temperature\") \n",
        "\n",
        "plt.show()"
      ],
      "metadata": {
        "colab": {
          "base_uri": "https://localhost:8080/",
          "height": 449
        },
        "id": "cAFDyieWaAgr",
        "outputId": "7e681ff6-250e-4daa-8f30-d280da0edac1"
      },
      "execution_count": 4,
      "outputs": [
        {
          "output_type": "display_data",
          "data": {
            "text/plain": [
              "<Figure size 640x480 with 1 Axes>"
            ],
            "image/png": "[encoded data removed]"
          },
          "metadata": {}
        }
      ]
    },
    {
      "cell_type": "code",
      "source": [
        "X = [ \"Mon\", \"Tue\", \"Wed\", \"Thur\", \"Fri\", \"Sat\", \"Sun\" ] \n",
        "\n",
        "Y1 = [15.6, 14.2, 16.3, 18.2, 17.1, 20.2, 22.4]\n",
        "Y2 = [20.1, 23.1, 23.8, 25.9, 23.4, 25.1, 26.3]\n",
        "\n",
        "plt.plot(X, Y1, X, Y2) # plot()에 2개의 쌍을 보낸다. \n",
        "plt.xlabel(\"day\")\n",
        "plt.ylabel(\"temperature\")\n",
        "\n",
        "plt.show()"
      ],
      "metadata": {
        "colab": {
          "base_uri": "https://localhost:8080/",
          "height": 449
        },
        "id": "A_LMX0NWbHkb",
        "outputId": "19a5af93-b055-4f88-b5fb-618b35339d92"
      },
      "execution_count": 5,
      "outputs": [
        {
          "output_type": "display_data",
          "data": {
            "text/plain": [
              "<Figure size 640x480 with 1 Axes>"
            ],
            "image/png": "[encoded data removed]"
          },
          "metadata": {}
        }
      ]
    },
    {
      "cell_type": "code",
      "source": [
        "X = [ \"Mon\", \"Tue\", \"Wed\", \"Thur\", \"Fri\", \"Sat\", \"Sun\" ] \n",
        "\n",
        "Y1 = [15.6, 14.2, 16.3, 18.2, 17.1, 20.2, 22.4]\n",
        "Y2 = [20.1, 23.1, 23.8, 25.9, 23.4, 25.1, 26.3]\n",
        "\n",
        "plt.plot(X, Y1, label=\"Seoul\") \n",
        "plt.plot(X, Y2, label=\"Busan\") \n",
        "\n",
        "plt.xlabel(\"day\") \n",
        "plt.ylabel(\"temperature\") \n",
        "\n",
        "plt.legend(loc=\"upper left\") #왼쪽 상단에 각 선이 의미하는 주석을 넣어줌\n",
        "plt.title(\"Temperatures of Cities\") \n",
        "\n",
        "plt.show()"
      ],
      "metadata": {
        "colab": {
          "base_uri": "https://localhost:8080/",
          "height": 472
        },
        "id": "-Zdsi_WebUiu",
        "outputId": "9921e1c0-6204-4455-e318-9a07d9a3b7ba"
      },
      "execution_count": 8,
      "outputs": [
        {
          "output_type": "display_data",
          "data": {
            "text/plain": [
              "<Figure size 640x480 with 1 Axes>"
            ],
            "image/png": "[encoded data removed]"
          },
          "metadata": {}
        }
      ]
    }
  ],
  "metadata": {
    "colab": {
      "provenance": [],
      "authorship_tag": "ABX9TyOG/2+z8JBZl4H7CquyEyAb",
      "include_colab_link": true
    },
    "gpuClass": "standard",
    "kernelspec": {
      "display_name": "Python 3",
      "name": "python3"
    },
    "language_info": {
      "name": "python"
    }
  },
  "nbformat": 4,
  "nbformat_minor": 0
}