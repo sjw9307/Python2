{
  "nbformat": 4,
  "nbformat_minor": 0,
  "metadata": {
    "colab": {
      "provenance": [],
      "authorship_tag": "ABX9TyPUzL51i1bnFB7buP4Kc5LE",
      "include_colab_link": true
    },
    "kernelspec": {
      "name": "python3",
      "display_name": "Python 3"
    },
    "language_info": {
      "name": "python"
    },
    "gpuClass": "standard"
  },
  "cells": [
    {
      "cell_type": "markdown",
      "metadata": {
        "id": "view-in-github",
        "colab_type": "text"
      },
      "source": [
        "<a href=\"https://colab.research.google.com/github/sjw9307/Python2/blob/mater/Python2.ipynb\" target=\"_parent\"><img src=\"https://colab.research.google.com/assets/colab-badge.svg\" alt=\"Open In Colab\"/></a>"
      ]
    },
    {
      "cell_type": "code",
      "execution_count": 5,
      "metadata": {
        "colab": {
          "base_uri": "https://localhost:8080/"
        },
        "id": "h-9zd4mprhI5",
        "outputId": "52dcc3f1-9efa-41c8-919f-b9f4d39535a6"
      },
      "outputs": [
        {
          "output_type": "stream",
          "name": "stdout",
          "text": [
            "주차 요금: [4500, 7000, 2000, 12000, 2500]원\n"
          ]
        }
      ],
      "source": [
        "park_times = [80, 130, 30, 230, 40] # 차량 5 대에 대한 주차 시간(분 단위) 리스트\n",
        "free_time = 30 # 무료 주차 시간 (분 단위)\n",
        "base_fee = 2000 # 기본 요금\n",
        "extra_fee_rate = 500 # 추가 요금 비율 (10 분당 500 원)\n",
        "total_fees = [] # 총 주차 요금 리스트 초기화\n",
        "max_fee = 20000 # 최대 요금\n",
        "\n",
        "def parkFee():\n",
        "  for park_time in park_times: # 각 차량의 주차 시간에 대해 계산\n",
        "      if park_time < free_time: #for문의 변수 설정이 i가 아닌 park로 설정되있어 조금 헤맸습니다 &30분에 대한 차량에 요금청구가 이해가 안갑니다.\n",
        "          total_fee = 0\n",
        "      else:\n",
        "          total_fee = base_fee + ( ((park_time - free_time) // 10) * extra_fee_rate )\n",
        "          total_fee = total_fee if total_fee <= max_fee else max_fee #삼항연산식\n",
        "          #total_fee = min(total_fee, max_fee) min함수를 이용한 간단식\n",
        "      \n",
        "      total_fees.append(total_fee) # 사이즈가 정해지지 않은 total_fees배열에 append함수를 사용하여 배열을 채움.\n",
        "  return total_fees\n",
        "\n",
        "def main():\n",
        "    print(f\"주차 요금: {parkFee()}원\")\n",
        "  \n",
        "main()"
      ]
    },
    {
      "cell_type": "code",
      "source": [
        "students_name = []\n",
        "students_number = []\n",
        "\n",
        "\n",
        "def std_info():\n",
        "    name = str(input(\"학생 이름을 입력하시오: \"))\n",
        "    id = int(input(\"학생 학번을 입력하시오: \"))\n",
        "    students_name.append(name)\n",
        "    students_number.append(id)\n",
        "\n",
        "\n",
        "def std_display(students_name, students_number):\n",
        "    print(\" -------------------------------- \")\n",
        "    print(\"           학생정보             \")\n",
        "    print(\" -------------------------------- \")\n",
        "\n",
        "    for i in range(len(students_name)):\n",
        "        print(f\" 학생번호 : {students_number[i]}   학생 이름 : {students_name[i]}\")\n",
        "\n",
        "\n",
        "def main():\n",
        "    std_info()\n",
        "    std_display(students_name, students_number)\n",
        "\n",
        "\n",
        "if __name__ == '__main__':\n",
        "    main()\n"
      ],
      "metadata": {
        "colab": {
          "base_uri": "https://localhost:8080/"
        },
        "id": "mLJyDuortfzV",
        "outputId": "392c03fa-cce1-46a1-fc9e-7a3d091555bb"
      },
      "execution_count": 7,
      "outputs": [
        {
          "output_type": "stream",
          "name": "stdout",
          "text": [
            "학생 이름을 입력하시오: 야야\n",
            "학생 학번을 입력하시오: 123\n",
            " -------------------------------- \n",
            "           학생정보             \n",
            " -------------------------------- \n",
            " 학생번호 : 123   학생 이름 : 야야\n"
          ]
        }
      ]
    },
    {
      "cell_type": "code",
      "source": [
        "scores= []\n",
        "cnt_80 = 0\n",
        "\n",
        "while len(scores) < 5:\n",
        "    input_score = input(\"성적을 입력하시오: \")\n",
        "    if input_score.isdigit():\n",
        "        scores.append(int(input_score))\n",
        "    else:\n",
        "        print(\"숫자만 입력 가능합니다.\")\n",
        "\n",
        "for i in range(len(scores)):\n",
        "  if(scores[i] >= 80):\n",
        "    cnt_80 = cnt_80 + 1\n",
        "\n",
        "print(f\" 성적평균 = { sum(scores) / len(scores) }\")\n",
        "print(f\" 최대점수 = { max(scores) }\")\n",
        "print(f\" 최소점수 = { min(scores) }\")\n",
        "print(f\" 80점 이상 = { cnt_80} \")\n"
      ],
      "metadata": {
        "colab": {
          "base_uri": "https://localhost:8080/"
        },
        "id": "DvOseSCu186U",
        "outputId": "02e08340-7342-4102-9356-3517e2e558de"
      },
      "execution_count": 7,
      "outputs": [
        {
          "output_type": "stream",
          "name": "stdout",
          "text": [
            "성적을 입력하시오: 000\n",
            "성적을 입력하시오: ㄴㄴㄴ\n",
            "숫자만 입력 가능합니다.\n",
            "성적을 입력하시오: 0\n",
            "성적을 입력하시오: 2\n",
            "성적을 입력하시오: 33\n",
            "성적을 입력하시오: 000\n",
            " 성적평균 = 7.0\n",
            " 최대점수 = 33\n",
            " 최소점수 = 0\n",
            " 80점 이상 = 0 \n"
          ]
        }
      ]
    },
    {
      "cell_type": "code",
      "source": [
        "#두번째로 큰 수를 찾고싶다면?\n",
        "\n",
        "mylist = [-7,2,3,8,6,6,75,38,3,2]\n",
        "print(\"sort함수가 안된 나의 리스트 : \" , mylist)\n",
        "\n",
        "mylist.sort()\n",
        "print(\"sort함수가 완료된 나의 리스트 : \" , mylist)\n",
        "\n",
        "mylist.remove(max(mylist))\n",
        "\n",
        "print(\"마지막으로 두번째로 가장 큰 수 : \", max(mylist))"
      ],
      "metadata": {
        "colab": {
          "base_uri": "https://localhost:8080/"
        },
        "id": "BFmUrPAW6R90",
        "outputId": "4db29a03-6958-423b-da6b-cabbb816300f"
      },
      "execution_count": 12,
      "outputs": [
        {
          "output_type": "stream",
          "name": "stdout",
          "text": [
            "sort함수가 안된 나의 리스트 :  [-7, 2, 3, 8, 6, 6, 75, 38, 3, 2]\n",
            "sort함수가 완료된 나의 리스트 :  [-7, 2, 2, 3, 3, 6, 6, 8, 38, 75]\n",
            "마지막으로 두번째로 가장 큰 수 :  38\n"
          ]
        }
      ]
    },
    {
      "cell_type": "code",
      "source": [
        "list1 = [1, 2, 3, 4, 15, 99]\n",
        "# 리스트를 정렬한다. \n",
        "list1.sort()\n",
        "# 뒤에서 두 번째 요소를 출력한다. \n",
        "print(\"두 번째로 큰 수=\", list1[-2])"
      ],
      "metadata": {
        "colab": {
          "base_uri": "https://localhost:8080/"
        },
        "id": "eMXfHiW4Ot9L",
        "outputId": "78b656ee-59a7-424a-8b60-21ea3bff519f"
      },
      "execution_count": 13,
      "outputs": [
        {
          "output_type": "stream",
          "name": "stdout",
          "text": [
            "두 번째로 큰 수= 15\n"
          ]
        }
      ]
    },
    {
      "cell_type": "code",
      "source": [
        "heroes = [\"Ironman\",\"Thorr\",\"Hulk\"]\n",
        "\n",
        "input_value = str(input(\"which hero are you looking for?\"))\n",
        "\n",
        "if (input_value in heroes) :\n",
        "  heroes.remove(input_value)\n",
        "else :\n",
        "  print(input_value, \" not exist\")\n",
        "\n",
        "print(\"All the heroes we have\",heroes)"
      ],
      "metadata": {
        "colab": {
          "base_uri": "https://localhost:8080/"
        },
        "id": "LNI29oRIHvsE",
        "outputId": "2700240b-adc3-4212-e66f-a9aa8f1d85d4"
      },
      "execution_count": 4,
      "outputs": [
        {
          "output_type": "stream",
          "name": "stdout",
          "text": [
            "which hero are you looking for?aa\n",
            "aa  not exist\n",
            "All the heroes we have ['Ironman', 'Thorr', 'Hulk']\n"
          ]
        }
      ]
    },
    {
      "cell_type": "code",
      "source": [
        "#파이썬을 이용하여 친구들을 관리하는 프로그램을 작성하여 보자.\n",
        "\n",
        "print(\"\"\" \n",
        "       ------------------\n",
        "          1. 친구 리스트 출력\n",
        "          2. 친구 추가\n",
        "          3. 친구 삭제\n",
        "          4. 이름 변경\n",
        "          9. 종료\n",
        "       -------------------\n",
        "      \"\"\")\n",
        "\n",
        "friends_list = []\n",
        "while len(friends_list) < 9:\n",
        "  menu_select = input(\" 메뉴를 선택하시오 : \")\n",
        "  \n",
        "  if (menu_select.isdigit() and int(menu_select == 1)):\n",
        "    print(friends_list)\n",
        "  \n",
        "  elif (menu_select.isdigit() and int(menu_select) == 2):\n",
        "    friends_list.append(input(\"추가할 친구 이름을 입력하시오: \"))\n",
        "\n",
        "  elif (menu_select.isdigit() and int(menu_select) == 3):\n",
        "    friend = str(input(\"삭제할 친구 이름을 입력하시오: \"))\n",
        "\n",
        "    if (friend not in friends_list):\n",
        "        print(\"해당 친구는 친구 목록에 없습니다.\")\n",
        "    else : \n",
        "      friends_list.remove(friend) \n",
        "  \n",
        "  elif (menu_select.isdigit() and int(menu_select) == 4):\n",
        "      old_name = str(input(\"수정할 친구 이름을 입력하시오: \"))\n",
        "      if old_name in friends_list:\n",
        "        index = friends_list.index(old_name)\n",
        "        new_name = input(\"새로운 이름을 입력하시오:\")\n",
        "        friends_list[index] = new_name\n",
        "      else :\n",
        "        print(\"이름이 발견되지 않음.\")\n",
        "\n",
        "  elif (menu_select.isdigit() and int(menu_select) == 9):\n",
        "    break\n",
        "\n",
        "  else :\n",
        "    print(\"잘못된 입력입니다.\")"
      ],
      "metadata": {
        "colab": {
          "base_uri": "https://localhost:8080/"
        },
        "id": "MF9u-O8mQ0hQ",
        "outputId": "3effcb53-f7ce-4cf2-e705-20f0ce579128"
      },
      "execution_count": 27,
      "outputs": [
        {
          "name": "stdout",
          "output_type": "stream",
          "text": [
            " \n",
            "       ------------------\n",
            "          1. 친구 리스트 출력\n",
            "          2. 친구 추가\n",
            "          3. 친구 삭제\n",
            "          4. 이름 변경\n",
            "          9. 종료\n",
            "       -------------------\n",
            "      \n",
            " 메뉴를 선택하시오 : 9\n"
          ]
        }
      ]
    }
  ]
}