{
  "nbformat": 4,
  "nbformat_minor": 0,
  "metadata": {
    "colab": {
      "provenance": [],
      "authorship_tag": "ABX9TyNUVVs0Bk3RuP0M8ktzu3tU",
      "include_colab_link": true
    },
    "kernelspec": {
      "name": "python3",
      "display_name": "Python 3"
    },
    "language_info": {
      "name": "python"
    },
    "gpuClass": "standard"
  },
  "cells": [
    {
      "cell_type": "markdown",
      "metadata": {
        "id": "view-in-github",
        "colab_type": "text"
      },
      "source": [
        "<a href=\"https://colab.research.google.com/github/sjw9307/Python2/blob/mater/Python2.ipynb\" target=\"_parent\"><img src=\"https://colab.research.google.com/assets/colab-badge.svg\" alt=\"Open In Colab\"/></a>"
      ]
    },
    {
      "cell_type": "code",
      "execution_count": 5,
      "metadata": {
        "colab": {
          "base_uri": "https://localhost:8080/"
        },
        "id": "h-9zd4mprhI5",
        "outputId": "52dcc3f1-9efa-41c8-919f-b9f4d39535a6"
      },
      "outputs": [
        {
          "output_type": "stream",
          "name": "stdout",
          "text": [
            "주차 요금: [4500, 7000, 2000, 12000, 2500]원\n"
          ]
        }
      ],
      "source": [
        "park_times = [80, 130, 30, 230, 40] # 차량 5 대에 대한 주차 시간(분 단위) 리스트\n",
        "free_time = 30 # 무료 주차 시간 (분 단위)\n",
        "base_fee = 2000 # 기본 요금\n",
        "extra_fee_rate = 500 # 추가 요금 비율 (10 분당 500 원)\n",
        "total_fees = [] # 총 주차 요금 리스트 초기화\n",
        "max_fee = 20000 # 최대 요금\n",
        "\n",
        "def parkFee():\n",
        "  for park_time in park_times: # 각 차량의 주차 시간에 대해 계산\n",
        "      if park_time < free_time: #for문의 변수 설정이 i가 아닌 park로 설정되있어 조금 헤맸습니다 &30분에 대한 차량에 요금청구가 이해가 안갑니다.\n",
        "          total_fee = 0\n",
        "      else:\n",
        "          total_fee = base_fee + ( ((park_time - free_time) // 10) * extra_fee_rate )\n",
        "          total_fee = total_fee if total_fee <= max_fee else max_fee #삼항연산식\n",
        "          #total_fee = min(total_fee, max_fee) min함수를 이용한 간단식\n",
        "      \n",
        "      total_fees.append(total_fee) # 사이즈가 정해지지 않은 total_fees배열에 append함수를 사용하여 배열을 채움.\n",
        "  return total_fees\n",
        "\n",
        "def main():\n",
        "    print(f\"주차 요금: {parkFee()}원\")\n",
        "  \n",
        "main()"
      ]
    },
    {
      "cell_type": "code",
      "source": [
        "students_name = []\n",
        "students_number = []\n",
        "\n",
        "\n",
        "def std_info():\n",
        "    name = str(input(\"학생 이름을 입력하시오: \"))\n",
        "    id = int(input(\"학생 학번을 입력하시오: \"))\n",
        "    students_name.append(name)\n",
        "    students_number.append(id)\n",
        "\n",
        "\n",
        "def std_display(students_name, students_number):\n",
        "    print(\" -------------------------------- \")\n",
        "    print(\"           학생정보             \")\n",
        "    print(\" -------------------------------- \")\n",
        "\n",
        "    for i in range(len(students_name)):\n",
        "        print(f\" 학생번호 : {students_number[i]}   학생 이름 : {students_name[i]}\")\n",
        "\n",
        "\n",
        "def main():\n",
        "    std_info()\n",
        "    std_display(students_name, students_number)\n",
        "\n",
        "\n",
        "if __name__ == '__main__':\n",
        "    main()\n"
      ],
      "metadata": {
        "colab": {
          "base_uri": "https://localhost:8080/"
        },
        "id": "mLJyDuortfzV",
        "outputId": "392c03fa-cce1-46a1-fc9e-7a3d091555bb"
      },
      "execution_count": 7,
      "outputs": [
        {
          "output_type": "stream",
          "name": "stdout",
          "text": [
            "학생 이름을 입력하시오: 야야\n",
            "학생 학번을 입력하시오: 123\n",
            " -------------------------------- \n",
            "           학생정보             \n",
            " -------------------------------- \n",
            " 학생번호 : 123   학생 이름 : 야야\n"
          ]
        }
      ]
    },
    {
      "cell_type": "code",
      "source": [
        "scores= []\n",
        "cnt_80 = 0\n",
        "\n",
        "while (len(scores) < 5) :\n",
        "  input_score = int(input(\"성적을 입력하시오: \"))\n",
        "  scores.append(input_score)\n",
        "\n",
        "for  i in range(len(scores)):\n",
        "  if(scores[i] >= 80):\n",
        "    cnt_80 = cnt_80 + 1\n",
        "\n",
        "print(f\" 성적평균 = { sum(scores) / len(scores) }\")\n",
        "print(f\" 최대점수 = { max(scores) }\")\n",
        "print(f\" 최소점수 = { min(scores) }\")\n",
        "print(f\" 80점 이상 = { cnt_80} \")\n"
      ],
      "metadata": {
        "colab": {
          "base_uri": "https://localhost:8080/"
        },
        "id": "DvOseSCu186U",
        "outputId": "fe7d40eb-df25-4827-f068-1815397ce52a"
      },
      "execution_count": 15,
      "outputs": [
        {
          "output_type": "stream",
          "name": "stdout",
          "text": [
            "성적을 입력하시오: 100\n",
            "성적을 입력하시오: 10\n",
            "성적을 입력하시오: 30\n",
            "성적을 입력하시오: 20\n",
            "성적을 입력하시오: 80\n",
            " 성적평균 = 48.0\n",
            " 최대점수 = 100\n",
            " 최소점수 = 10\n",
            " 80점 이상 = 2 \n"
          ]
        }
      ]
    },
    {
      "cell_type": "code",
      "source": [
        "list_2nd = [-7,2,3,8,6,6,75,38,3,2]\n",
        "\n",
        "list_2nd.sort()\n",
        "\n",
        "print(list_2nd)\n",
        "\n",
        "list_2nd.remove(max(list_2nd))\n",
        "\n",
        "print(list_2nd)\n",
        "\n",
        "print(max(list_2nd))"
      ],
      "metadata": {
        "colab": {
          "base_uri": "https://localhost:8080/"
        },
        "id": "BFmUrPAW6R90",
        "outputId": "c0f978de-94e9-4095-ff42-9949b051aa2f"
      },
      "execution_count": 24,
      "outputs": [
        {
          "output_type": "stream",
          "name": "stdout",
          "text": [
            "[-7, 2, 2, 3, 3, 6, 6, 8, 38, 75]\n",
            "[-7, 2, 2, 3, 3, 6, 6, 8, 38]\n",
            "38\n"
          ]
        }
      ]
    }
  ]
}